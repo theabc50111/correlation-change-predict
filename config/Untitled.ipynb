{
 "cells": [
  {
   "cell_type": "code",
   "execution_count": 4,
   "id": "f7589e5e-d94a-4ce1-a1c6-9f515dc46bf3",
   "metadata": {},
   "outputs": [
    {
     "name": "stdout",
     "output_type": "stream",
     "text": [
      "dict_keys(['SP500_20082017_CONSUM_DISCRETIONARY_KS_HYPER_LSTM', 'SP500_20082017_KS_HYPER_LSTM', 'SP500_20082017_LSTM', 'SP500_20082017_SOURCECODES_LSTM', 'TETUAN_POWER_LSTM', 'TW50_LSTM'])\n",
      "time: 58.5 ms (started: 2022-11-06 19:26:50 +00:00)\n"
     ]
    }
   ],
   "source": [
    "import dynamic_yaml\n",
    "import yaml\n",
    "\n",
    "\n",
    "with open('data_config.yaml') as fileobj:\n",
    "    cfg = dynamic_yaml.load(fileobj)\n",
    "    data = yaml.full_load(dynamic_yaml.dump(cfg))\n",
    "\n",
    "\n",
    "print(data[\"LSTM_WEIGHT\"].keys())"
   ]
  },
  {
   "cell_type": "code",
   "execution_count": 5,
   "id": "7f98c44e-2bc4-456b-ae3c-ff7c3271df60",
   "metadata": {},
   "outputs": [
    {
     "name": "stdout",
     "output_type": "stream",
     "text": [
      "-13\n",
      "time: 1.09 ms (started: 2022-11-07 02:17:45 +00:00)\n"
     ]
    }
   ],
   "source": [
    "from dateutil import parser\n",
    "\n",
    "\n",
    "\n",
    "\n",
    "my_birthday= parser.parse(\"2022-11-05 15:16:18\")\n",
    "\n",
    "now = parser.parse(\"2022-11-07 2:45:20\")\n",
    "\n",
    "hours = now.hour - my_birthday.hour\n",
    "\n",
    "print(f\"{hours}\")"
   ]
  },
  {
   "cell_type": "code",
   "execution_count": null,
   "id": "063d9e81-e738-4519-91ff-7470f0e65c90",
   "metadata": {},
   "outputs": [],
   "source": []
  }
 ],
 "metadata": {
  "kernelspec": {
   "display_name": "Python 3 (ipykernel)",
   "language": "python",
   "name": "python3"
  },
  "language_info": {
   "codemirror_mode": {
    "name": "ipython",
    "version": 3
   },
   "file_extension": ".py",
   "mimetype": "text/x-python",
   "name": "python",
   "nbconvert_exporter": "python",
   "pygments_lexer": "ipython3",
   "version": "3.8.10"
  }
 },
 "nbformat": 4,
 "nbformat_minor": 5
}
