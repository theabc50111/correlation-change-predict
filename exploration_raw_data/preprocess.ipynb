{
 "cells": [
  {
   "cell_type": "code",
   "execution_count": null,
   "id": "50940a49-f60b-4b72-8931-545ba7e8b190",
   "metadata": {
    "tags": []
   },
   "outputs": [],
   "source": [
    "from pathlib import Path\n",
    "import os\n",
    "import logging\n",
    "from io import StringIO\n",
    "import pprint\n",
    "from pprint import pformat\n",
    "import random\n",
    "\n",
    "import numpy as np\n",
    "import pandas as pd\n",
    "import matplotlib.pyplot as plt\n",
    "import dynamic_yaml\n",
    "import yaml\n",
    "# import wfdb\n",
    "\n",
    "with open('../config/data_config.yaml') as f:\n",
    "    data = dynamic_yaml.load(f)\n",
    "    data_cfg = yaml.full_load(dynamic_yaml.dump(data))\n",
    "\n",
    "output_buf = StringIO()\n",
    "logging.basicConfig(level=logging.INFO)\n",
    "\n",
    "logging.debug(pformat(data_cfg, indent=1, width=100, compact=True))"
   ]
  },
  {
   "cell_type": "markdown",
   "id": "eb514b57-347a-4ba1-ac30-276699ab9fb5",
   "metadata": {
    "tags": []
   },
   "source": [
    "# preprocess setting"
   ]
  },
  {
   "cell_type": "code",
   "execution_count": null,
   "id": "0d76bbd7-3b9e-4432-b8d6-29a2b5ce1b51",
   "metadata": {
    "tags": []
   },
   "outputs": [],
   "source": [
    "data_selection = True\n",
    "raw_file_dir = Path(data_cfg['DIRS']['DATASET_DIR'])/f\"raw_data\""
   ]
  },
  {
   "cell_type": "markdown",
   "id": "94b9bb34-3692-4f7e-baa8-10adb602fceb",
   "metadata": {
    "tags": []
   },
   "source": [
    "# Randon pick items for trainset # Not always necessary to operate"
   ]
  },
  {
   "cell_type": "code",
   "execution_count": null,
   "id": "b047bdef-b21c-4b49-b024-6c8afc9fdba7",
   "metadata": {
    "tags": []
   },
   "outputs": [],
   "source": [
    "def gen_random_trainset(all_items: list, train_set_len: int = 100, verbose: int = 0):\n",
    "    random.seed(10)\n",
    "    train_set = sorted(random.sample(all_items, train_set_len))\n",
    "\n",
    "    if verbose==1:\n",
    "        print(f\"len(train_set):{len(train_set)}\")\n",
    "        pp = pprint.PrettyPrinter(width=500, compact=True)\n",
    "        pp.pprint(train_set)\n",
    "\n",
    "    return train_set"
   ]
  },
  {
   "cell_type": "markdown",
   "id": "558af2d0-7c93-4d84-9121-1b38b9d4c145",
   "metadata": {
    "jp-MarkdownHeadingCollapsed": true,
    "tags": []
   },
   "source": [
    "# Tetuan City power consumption Dataset"
   ]
  },
  {
   "cell_type": "code",
   "execution_count": null,
   "id": "cfabc626-6ac4-4cd3-979c-5952703eecac",
   "metadata": {
    "tags": []
   },
   "outputs": [],
   "source": [
    "raw_file_name = 'Tetuan City power consumption.csv'\n",
    "file_name = 'tetuan_city_power_consumption.csv'\n",
    "raw_data = pd.read_csv(raw_file_dir/raw_file_name)\n",
    "raw_data['Date'] = pd.to_datetime(raw_data['Date'])\n",
    "raw_data = raw_data.set_index('Date')\n",
    "display(raw_data)"
   ]
  },
  {
   "cell_type": "markdown",
   "id": "4c3c8ba6-119c-43e5-b339-1cec1c22b61b",
   "metadata": {
    "tags": []
   },
   "source": [
    "## Sort Data"
   ]
  },
  {
   "cell_type": "code",
   "execution_count": null,
   "id": "7b066e14-92f5-429d-b299-5c3158750fa0",
   "metadata": {},
   "outputs": [],
   "source": [
    "sort_pre_df = raw_data.sort_values('Date')\n",
    "display(sort_pre_df.info())"
   ]
  },
  {
   "cell_type": "markdown",
   "id": "bd5ed99b-35cb-4ba6-8dea-5cbf262d1b6e",
   "metadata": {
    "tags": []
   },
   "source": [
    "## Missing Data"
   ]
  },
  {
   "cell_type": "code",
   "execution_count": null,
   "id": "5ba16aaa-a246-41d9-a03b-d58667e97378",
   "metadata": {},
   "outputs": [],
   "source": [
    "na_mask = sort_pre_df.isna().sum() < len(raw_data)*0.01 # null values ratio==1%\n",
    "na_pre_df = sort_pre_df.iloc[::, na_mask.tolist()]\n",
    "na_pre_df = na_pre_df.fillna(method='ffill')\n",
    "na_pre_df = na_pre_df.fillna(method='bfill')\n",
    "if na_pre_df.isna().sum().sum() == 0:\n",
    "    output_df = na_pre_df\n",
    "else:\n",
    "    print(na_pre_df.iloc[::, (na_pre_df.isna().sum()>0).tolist()])\n",
    "    raise Exception(f'Still has {na_pre_df.isna().sum().sum()} null value')"
   ]
  },
  {
   "cell_type": "markdown",
   "id": "7ffad507-de76-4e6a-bdf4-8bde1e17a814",
   "metadata": {
    "tags": []
   },
   "source": [
    "## Data selection"
   ]
  },
  {
   "cell_type": "code",
   "execution_count": null,
   "id": "18d4b2bd-ec51-4a32-a60c-1638936047ed",
   "metadata": {},
   "outputs": [],
   "source": [
    "if data_selection == True:\n",
    "    output_df = na_pre_df.iloc[::18, ::] # extract for every 3 hour\n",
    "    display(output_df)"
   ]
  },
  {
   "cell_type": "markdown",
   "id": "022bc077-42cd-4e4a-a3a5-e1e7e151391c",
   "metadata": {
    "tags": []
   },
   "source": [
    "## Output Data"
   ]
  },
  {
   "cell_type": "code",
   "execution_count": null,
   "id": "d8ed70ae-93c1-47a1-860d-a43284fb6c4b",
   "metadata": {},
   "outputs": [],
   "source": [
    "output_df.to_csv(Path(raw_file_dir).parent/(str(Path(file_name).stem) + \"-pre\" + str(Path(file_name).suffix)))"
   ]
  },
  {
   "cell_type": "markdown",
   "id": "f990a845-d713-487e-b69d-89acd551aa78",
   "metadata": {
    "jp-MarkdownHeadingCollapsed": true,
    "tags": []
   },
   "source": [
    "# Nvidia stock & Bitcoin"
   ]
  },
  {
   "cell_type": "code",
   "execution_count": null,
   "id": "4f3433ed-426f-4bbb-85bb-1470e63e3197",
   "metadata": {},
   "outputs": [],
   "source": [
    "bitcoin_file_name = 'bitcoin_20102022.csv'\n",
    "nvda_file_name = 'nvda_20102022.csv'\n",
    "file_name = \"bitcoin_nvda_20122022.csv\"\n",
    "bitcoin_raw_data = pd.read_csv(raw_file_dir/bitcoin_file_name)\n",
    "nvda_raw_data = pd.read_csv(raw_file_dir/nvda_file_name)\n",
    "bitcoin_raw_data['Date'] = pd.to_datetime(bitcoin_raw_data['Date'])\n",
    "nvda_raw_data['Date'] = pd.to_datetime(nvda_raw_data['Date'])\n",
    "\n",
    "raw_data = pd.merge(bitcoin_raw_data, nvda_raw_data, on=[\"Date\"], how=\"right\").set_index(\"Date\")\n",
    "\n",
    "logging.debug(f\"\\n {raw_data}\")"
   ]
  },
  {
   "cell_type": "markdown",
   "id": "cde43b18-e043-4681-87d8-6a4ea82375d9",
   "metadata": {
    "tags": []
   },
   "source": [
    "## Sort Data"
   ]
  },
  {
   "cell_type": "code",
   "execution_count": null,
   "id": "1d958a57-9c30-47d2-bb99-0e95f659a4ce",
   "metadata": {
    "tags": []
   },
   "outputs": [],
   "source": [
    "sort_pre_df = raw_data.sort_values('Date')\n",
    "sort_pre_df.info(buf=output_buf)\n",
    "logging.debug(f\"\\n{sort_pre_df}\\n\" + \"=\"*50)\n",
    "logging.debug(f\"\\n{output_buf.getvalue()}\\n\" + \"=\"*50)"
   ]
  },
  {
   "cell_type": "markdown",
   "id": "ad71c71d-fc2f-48a3-9129-bcf916dac075",
   "metadata": {},
   "source": [
    "## Missing Data"
   ]
  },
  {
   "cell_type": "code",
   "execution_count": null,
   "id": "1f67fdf1-d83b-4d4d-bed7-999d7b55cbdf",
   "metadata": {},
   "outputs": [],
   "source": [
    "# test if na exists\n",
    "logging.info(f\"\\n{sort_pre_df.isnull().any()}\\n\" + \"=\"*50)\n",
    "logging.info(f\"\\n{sort_pre_df.isnull().sum()}\\n\" + \"=\"*50)\n",
    "logging.info(f\"\\n{sort_pre_df.loc[raw_data.isnull().values, raw_data.isnull().any().values]}\\n\" + \"=\"*50)"
   ]
  },
  {
   "cell_type": "code",
   "execution_count": null,
   "id": "01e3b662-a8bb-4770-b1a3-873a665fe719",
   "metadata": {},
   "outputs": [],
   "source": [
    "na_mask = sort_pre_df.isna().sum() < len(raw_data)*0.01 # null values ratio==1%\n",
    "na_pre_df = sort_pre_df.iloc[::, na_mask.tolist()]\n",
    "na_pre_df = na_pre_df.fillna(method='ffill')\n",
    "na_pre_df = na_pre_df.fillna(method='bfill')\n",
    "if na_pre_df.isna().sum().sum() == 0:\n",
    "    output_df = na_pre_df\n",
    "else:\n",
    "    print(na_pre_df.iloc[::, (na_pre_df.isna().sum()>0).tolist()])\n",
    "    raise Exception(f'Still has {na_pre_df.isna().sum().sum()} null value')\n",
    "\n",
    "# test if na exists\n",
    "logging.info(f\"\\n{na_pre_df.isnull().any()}\\n\" + \"=\"*50)\n",
    "logging.info(f\"\\n{na_pre_df.isnull().sum()}\\n\" + \"=\"*50)"
   ]
  },
  {
   "cell_type": "markdown",
   "id": "67d7bdc4-2cbc-4be6-adc2-51994a8150d6",
   "metadata": {},
   "source": [
    "## Data selection"
   ]
  },
  {
   "cell_type": "code",
   "execution_count": null,
   "id": "86e3ff07-aebc-4305-890d-d72788c20597",
   "metadata": {},
   "outputs": [],
   "source": [
    "if data_selection == True:\n",
    "    output_df = na_pre_df.iloc[len(na_pre_df)-2519:, ::]\n",
    "    logging.info(f\"\\n{output_df}\\n\")"
   ]
  },
  {
   "cell_type": "markdown",
   "id": "28eeb33c-52d5-4a16-bd27-9ae530a61d99",
   "metadata": {},
   "source": [
    "## Output Data"
   ]
  },
  {
   "cell_type": "code",
   "execution_count": null,
   "id": "1abae538-9fd2-40a9-a76b-ff90862c8a9d",
   "metadata": {},
   "outputs": [],
   "source": [
    "output_df.to_csv(Path(raw_file_dir).parent/(str(Path(file_name).stem) + \"_pre\" + str(Path(file_name).suffix)))"
   ]
  },
  {
   "cell_type": "markdown",
   "id": "5a677921-75f0-426c-ba0f-2e04864fd375",
   "metadata": {
    "jp-MarkdownHeadingCollapsed": true,
    "tags": []
   },
   "source": [
    "# Compute moving average of sp500"
   ]
  },
  {
   "cell_type": "markdown",
   "id": "709ddcf8-5261-492c-8970-664668bc2679",
   "metadata": {
    "execution": {
     "iopub.execute_input": "2023-07-23T07:24:02.601309Z",
     "iopub.status.busy": "2023-07-23T07:24:02.600974Z",
     "iopub.status.idle": "2023-07-23T07:24:02.615436Z",
     "shell.execute_reply": "2023-07-23T07:24:02.614957Z",
     "shell.execute_reply.started": "2023-07-23T07:24:02.601281Z"
    },
    "tags": []
   },
   "source": [
    "## load sp500_hold_20082017-adj_close-pre.csv"
   ]
  },
  {
   "cell_type": "code",
   "execution_count": null,
   "id": "c2c2ec41-7207-4849-baf2-8bff602ca6ac",
   "metadata": {
    "tags": []
   },
   "outputs": [],
   "source": [
    "sp500_20082017_pre_file_name = Path(\"sp500_hold_20082017-adj_close-pre.csv\")\n",
    "sp500_20082017_df = pd.read_csv(raw_file_dir.parent/sp500_20082017_pre_file_name).set_index(\"Date\")\n",
    "sp500_20082017_tickers = set(sp500_20082017_df.columns)"
   ]
  },
  {
   "cell_type": "code",
   "execution_count": null,
   "id": "3c45d8ee-8079-4003-8457-b02280531300",
   "metadata": {
    "tags": []
   },
   "outputs": [],
   "source": [
    "display(sp500_20082017_df)\n",
    "sp500_20082017_df.rolling(window=60, axis=0).mean()[60:]"
   ]
  },
  {
   "cell_type": "code",
   "execution_count": null,
   "id": "d122b46c-94f4-46c9-a1a8-0bfcdc3d2999",
   "metadata": {},
   "outputs": [],
   "source": []
  },
  {
   "cell_type": "code",
   "execution_count": null,
   "id": "b3a202b5-febe-49e4-9e4c-357d98cb835d",
   "metadata": {},
   "outputs": [],
   "source": []
  },
  {
   "cell_type": "code",
   "execution_count": null,
   "id": "cabde108-fe77-4d70-b0ad-56a0da32b186",
   "metadata": {},
   "outputs": [],
   "source": []
  },
  {
   "cell_type": "markdown",
   "id": "a41dc79e-69fb-48d4-b12b-a9aa7d7d3162",
   "metadata": {
    "jp-MarkdownHeadingCollapsed": true,
    "tags": []
   },
   "source": [
    "# Split sp500 constituent by GICS sector|sub_industry"
   ]
  },
  {
   "cell_type": "markdown",
   "id": "fcc4b563-163c-4f73-86af-b7d7022cb8ff",
   "metadata": {
    "tags": []
   },
   "source": [
    "## Find number of tickers for each GICS_sector & GICS_sub_industry"
   ]
  },
  {
   "cell_type": "code",
   "execution_count": null,
   "id": "004b78b0-85e5-4153-a34d-a64a91f32898",
   "metadata": {
    "tags": []
   },
   "outputs": [],
   "source": [
    "file_name = \"sp500_constituent_gics.csv\"\n",
    "sp500_constituent_industry_df = pd.read_csv(raw_file_dir/file_name).set_index('Unnamed: 0')\n",
    "display(sp500_constituent_industry_df)\n",
    "display(sp500_constituent_industry_df.groupby(\"GICS_sector\")[\"ticker\"].count().sort_values(ascending=False))\n",
    "display(sp500_constituent_industry_df.groupby(\"GICS_sub_industry\")[\"ticker\"].count().sort_values(ascending=False))\n",
    "display(sp500_constituent_industry_df.groupby(\"GICS_sub_industry\")[\"ticker\"].count().sum())\n",
    "# display(sp500_constituent_industry_df.groupby(\"GICS_sector\")[\"ticker\"].value_counts())"
   ]
  },
  {
   "cell_type": "markdown",
   "id": "9288c758-d672-4274-af51-d5148b4c5645",
   "metadata": {
    "tags": []
   },
   "source": [
    "## Filtering the tickers in `sp500_20082017-pre.csv` by GICS_sector"
   ]
  },
  {
   "cell_type": "code",
   "execution_count": null,
   "id": "17df5d7e-5c33-4743-8d74-22bdaf203fe8",
   "metadata": {},
   "outputs": [],
   "source": [
    "sp500_20082017_pre_file_name = Path(\"sp500_hold_20082017-adj_close-pre.csv\")\n",
    "sp500_20082017_df = pd.read_csv(raw_file_dir.parent/sp500_20082017_pre_file_name).set_index(\"Date\")\n",
    "consumer_discretionary_tickers = set(sp500_constituent_industry_df.loc[sp500_constituent_industry_df[\"GICS_sector\"]==\"Consumer Discretionary\", \"ticker\"])\n",
    "information_technology_tickers = set(sp500_constituent_industry_df.loc[sp500_constituent_industry_df[\"GICS_sector\"]==\"Information Technology\", \"ticker\"])\n",
    "financials_tickers = set(sp500_constituent_industry_df.loc[sp500_constituent_industry_df[\"GICS_sector\"]==\"Financials\", \"ticker\"])\n",
    "sp500_20082017_tickers = set(sp500_20082017_df.columns)\n",
    "sp500_20082017_consumer_discretionary_tickers = sp500_20082017_tickers.intersection(consumer_discretionary_tickers)\n",
    "sp500_20082017_information_technology_tickers = sp500_20082017_tickers.intersection(information_technology_tickers)\n",
    "sp500_20082017_financials_tickers = sp500_20082017_tickers.intersection(financials_tickers)\n",
    "logging.info(f\"consumer_discretionary_tickers in sp500: {len(consumer_discretionary_tickers)}, consumer_discretionary_tickers in sp500_pre {len(sp500_20082017_consumer_discretionary_tickers)}\")\n",
    "logging.info(f\"information_technology_tickers in sp500: {len(information_technology_tickers)}, information_technology_tickers in sp500_pre {len(sp500_20082017_information_technology_tickers)}\")\n",
    "logging.info(f\"financials_tickers in sp500: {len(financials_tickers)}, financials_tickers in sp500_pre {len(sp500_20082017_financials_tickers)}\")"
   ]
  },
  {
   "cell_type": "markdown",
   "id": "fd49a9bb-fe20-4497-a03f-bb7c6cfddb9b",
   "metadata": {
    "tags": []
   },
   "source": [
    "## Output Data"
   ]
  },
  {
   "cell_type": "code",
   "execution_count": null,
   "id": "3b3566d6-fdd7-4f43-9ce1-9feb9ac5f244",
   "metadata": {},
   "outputs": [],
   "source": [
    "sp500_20082017_consumer_discretionary_df = sp500_20082017_df.loc[:, list(sp500_20082017_consumer_discretionary_tickers)]\n",
    "output_df = sp500_20082017_consumer_discretionary_df\n",
    "file_name = sp500_20082017_pre_file_name\n",
    "output_df.to_csv(Path(raw_file_dir).parent/(str(Path(file_name).stem).replace(\"-pre\", \"\") + \"-consumDiscretionary-pre\" + str(Path(file_name).suffix)))"
   ]
  },
  {
   "cell_type": "markdown",
   "id": "9812c5a3-2aac-41f0-9ba6-84f8180e3251",
   "metadata": {
    "tags": []
   },
   "source": [
    "# Split sp500 constituent by hierarchy clustering"
   ]
  },
  {
   "cell_type": "markdown",
   "id": "ad977f7e-55e0-416f-a7d2-7e94a03b502b",
   "metadata": {},
   "source": [
    "## Load cluster results and preprocessed data"
   ]
  },
  {
   "cell_type": "code",
   "execution_count": null,
   "id": "871bbdb3-136d-4da1-8f1d-30d6a42b2c5a",
   "metadata": {},
   "outputs": [],
   "source": [
    "cluster_resluts_dir = Path(data_cfg[\"DIRS\"]['PIPELINE_DATA_DIR'])/f\"sp500_20082017-train_all/cluster/corr_s1_w50/corr_ser_calc_regular\"\n",
    "cluster_resluts_file_name = Path(\"corr_mat_hrchy_10_cluster.csv\")  # change this file if there is any better cluster results\n",
    "cluster_resluts_df = pd.read_csv(cluster_resluts_dir/cluster_resluts_file_name, index_col=\"Unnamed: 0\")\n",
    "cluster_label_col_name = cluster_resluts_file_name.stem+\"_label\"  # check label_col_name by cluster_resluts_df.columns\n",
    "\n",
    "sp500_20082017_pre_file_name = Path(\"sp500_hold_20082017-adj_close-pre.csv\")\n",
    "sp500_20082017_df = pd.read_csv(raw_file_dir.parent/sp500_20082017_pre_file_name).set_index(\"Date\")\n",
    "sp500_20082017_tickers = set(sp500_20082017_df.columns)"
   ]
  },
  {
   "cell_type": "markdown",
   "id": "c65e254f-7fd1-4d48-af88-4b2ac8dd0e5e",
   "metadata": {
    "tags": []
   },
   "source": [
    "## Find tickers with cluster label that have many nodes"
   ]
  },
  {
   "cell_type": "code",
   "execution_count": null,
   "id": "4481fbef-9794-44bd-b708-4c45b308ccdb",
   "metadata": {
    "tags": []
   },
   "outputs": [],
   "source": [
    "frequent_cluster_label_1st = cluster_resluts_df.groupby([cluster_label_col_name]).count().sort_values(\"items\", ascending=False).index[0]\n",
    "frequent_cluster_label_1st_nodes_num = cluster_resluts_df.groupby([cluster_label_col_name]).count().sort_values(\"items\", ascending=False).iloc[0, 0]\n",
    "frequent_cluster_label_2nd = cluster_resluts_df.groupby([cluster_label_col_name]).count().sort_values(\"items\", ascending=False).index[1]\n",
    "frequent_cluster_label_2nd_nodes_num = cluster_resluts_df.groupby([cluster_label_col_name]).count().sort_values(\"items\", ascending=False).iloc[1, 0]\n",
    "frequent_cluster_label_7th = cluster_resluts_df.groupby([cluster_label_col_name]).count().sort_values(\"items\", ascending=False).index[6]\n",
    "frequent_cluster_label_7th_nodes_num = cluster_resluts_df.groupby([cluster_label_col_name]).count().sort_values(\"items\", ascending=False).iloc[6, 0]\n",
    "frequent_cluster_label_last = cluster_resluts_df.groupby([cluster_label_col_name]).count().sort_values(\"items\", ascending=False).index[-1]\n",
    "frequent_cluster_label_last_nodes_num = cluster_resluts_df.groupby([cluster_label_col_name]).count().sort_values(\"items\", ascending=False).iloc[-1, 0]\n",
    "\n",
    "all_mix_cluster_df = cluster_resluts_df.groupby([cluster_label_col_name]).apply(lambda x: x.sample(n=1, random_state=0)).reset_index(drop=True)\n",
    "not_target_mask = all_mix_cluster_df.loc[::,cluster_label_col_name]!=frequent_cluster_label_7th\n",
    "sameple_not_target_df = all_mix_cluster_df.loc[not_target_mask].sample(n=5, random_state=0)\n",
    "sample_target_df = cluster_resluts_df.loc[cluster_resluts_df[cluster_label_col_name]==frequent_cluster_label_7th, ::].sample(n=5, random_state=0)\n",
    "half_mix_cluster_df = pd.concat([sameple_not_target_df, sample_target_df])\n",
    "\n",
    "frequent_cluster_label_all_mix = all_mix_cluster_df.loc[::, cluster_label_col_name].tolist()\n",
    "frequent_cluster_label_all_mix_nodes_num = len(all_mix_cluster_df)\n",
    "frequent_cluster_label_half_mix = half_mix_cluster_df.loc[::, cluster_label_col_name].unique().tolist()\n",
    "frequent_cluster_label_half_mix_nodes_num = len(half_mix_cluster_df)\n",
    "\n",
    "logging.info(f\"frequent_cluster_label_1st: 【{frequent_cluster_label_1st}】, quantity of nodes with frequent_cluster_label_1st: {frequent_cluster_label_1st_nodes_num}\")\n",
    "logging.info(f\"frequent_cluster_label_2nd: 【{frequent_cluster_label_2nd}】, quantity of nodes with frequent_cluster_label_2nd: {frequent_cluster_label_2nd_nodes_num}\")\n",
    "logging.info(f\"frequent_cluster_label_7th: 【{frequent_cluster_label_7th}】, quantity of nodes with frequent_cluster_label_7th: {frequent_cluster_label_7th_nodes_num}\")\n",
    "logging.info(f\"frequent_cluster_label_last: 【{frequent_cluster_label_last}】, quantity of nodes with frequent_cluster_label_last: {frequent_cluster_label_last_nodes_num}\")\n",
    "logging.info(f\"frequent_cluster_label_all_mix: 【{frequent_cluster_label_all_mix}】, quantity of nodes with frequent_cluster_label_all_mix: {frequent_cluster_label_all_mix_nodes_num}\")\n",
    "logging.info(f\"frequent_cluster_label_half_mix: 【{frequent_cluster_label_half_mix}】, quantity of nodes with frequent_cluster_label_half_mix: {frequent_cluster_label_half_mix_nodes_num}\")\n",
    "\n",
    "display(cluster_resluts_df.head())\n",
    "display(cluster_resluts_df.groupby([cluster_label_col_name]).count().sort_values(\"items\", ascending=False))\n",
    "display(\"all_mix_cluster_df:\")\n",
    "display(all_mix_cluster_df)\n",
    "display(\"half_mix_cluster_df:\")\n",
    "display(half_mix_cluster_df)"
   ]
  },
  {
   "cell_type": "markdown",
   "id": "7a2d301c-d583-488b-b4ca-ce248602fcf0",
   "metadata": {
    "tags": []
   },
   "source": [
    "## Filtering the tickers in `sp500_20082017-pre.csv` by tickers with cluster label that have many nodes"
   ]
  },
  {
   "cell_type": "code",
   "execution_count": null,
   "id": "b2926bce-5244-4941-8e74-61ce319e0aae",
   "metadata": {
    "tags": []
   },
   "outputs": [],
   "source": [
    "frequent_cluster_label_1st_tickers = set(cluster_resluts_df.loc[cluster_resluts_df[cluster_label_col_name]==frequent_cluster_label_1st, \"items\"])\n",
    "frequent_cluster_label_2nd_tickers = set(cluster_resluts_df.loc[cluster_resluts_df[cluster_label_col_name]==frequent_cluster_label_2nd, \"items\"])\n",
    "frequent_cluster_label_7th_tickers = set(cluster_resluts_df.loc[cluster_resluts_df[cluster_label_col_name]==frequent_cluster_label_7th, \"items\"])\n",
    "frequent_cluster_label_last_tickers = set(cluster_resluts_df.loc[cluster_resluts_df[cluster_label_col_name]==frequent_cluster_label_last, \"items\"])\n",
    "frequent_cluster_label_all_mix_tickers = set(all_mix_cluster_df.loc[::, \"items\"])\n",
    "frequent_cluster_label_half_mix_tickers = set(half_mix_cluster_df.loc[::, \"items\"])\n",
    "\n",
    "sp500_20082017_frequent_cluster_label_1st_tickers = sp500_20082017_tickers.intersection(frequent_cluster_label_1st_tickers)\n",
    "sp500_20082017_frequent_cluster_label_2nd_tickers = sp500_20082017_tickers.intersection(frequent_cluster_label_2nd_tickers)\n",
    "sp500_20082017_frequent_cluster_label_7th_tickers = sp500_20082017_tickers.intersection(frequent_cluster_label_7th_tickers)\n",
    "sp500_20082017_frequent_cluster_label_last_tickers = sp500_20082017_tickers.intersection(frequent_cluster_label_last_tickers)\n",
    "sp500_20082017_frequent_cluster_label_all_mix_tickers = sp500_20082017_tickers.intersection(frequent_cluster_label_all_mix_tickers)\n",
    "sp500_20082017_frequent_cluster_label_half_mix_tickers = sp500_20082017_tickers.intersection(frequent_cluster_label_half_mix_tickers)\n",
    "\n",
    "logging.info(f\"frequent_cluster_label_1st_tickers in sp500: {len(frequent_cluster_label_1st_tickers)}, frequent_cluster_label_1st_tickers in sp500_pre: {len(sp500_20082017_frequent_cluster_label_1st_tickers)}\")\n",
    "logging.info(f\"frequent_cluster_label_2nd_tickers in sp500: {len(frequent_cluster_label_2nd_tickers)}, frequent_cluster_label_2nd_tickers in sp500_pre: {len(sp500_20082017_frequent_cluster_label_2nd_tickers)}\")\n",
    "logging.info(f\"frequent_cluster_label_7th_tickers in sp500: {len(frequent_cluster_label_7th_tickers)}, frequent_cluster_label_7th_tickers in sp500_pre: {len(sp500_20082017_frequent_cluster_label_7th_tickers)}\")\n",
    "logging.info(f\"frequent_cluster_label_last_tickers in sp500: {len(frequent_cluster_label_last_tickers)}, frequent_cluster_label_last_tickers in sp500_pre: {len(sp500_20082017_frequent_cluster_label_last_tickers)}\")\n",
    "logging.info(f\"frequent_cluster_label_all_mix_tickers in sp500: {len(frequent_cluster_label_all_mix_tickers)}, frequent_cluster_label_all_mix_tickers in sp500_pre: {len(sp500_20082017_frequent_cluster_label_all_mix_tickers)}\")\n",
    "logging.info(f\"frequent_cluster_label_half_mix_tickers in sp500: {len(frequent_cluster_label_half_mix_tickers)}, frequent_cluster_label_half_mix_tickers in sp500_pre: {len(sp500_20082017_frequent_cluster_label_half_mix_tickers)}\")"
   ]
  },
  {
   "cell_type": "markdown",
   "id": "a8dec6b7-de16-4317-a324-82d3e8105e13",
   "metadata": {},
   "source": [
    "## Output Data"
   ]
  },
  {
   "cell_type": "code",
   "execution_count": null,
   "id": "8ed4ed91-3f83-4567-b72f-54e509460e81",
   "metadata": {
    "tags": []
   },
   "outputs": [],
   "source": [
    "sp500_20082017_frequent_cluster_label_1st_df = sp500_20082017_df.loc[:, list(frequent_cluster_label_1st_tickers)]\n",
    "sp500_20082017_frequent_cluster_label_2nd_df = sp500_20082017_df.loc[:, list(frequent_cluster_label_2nd_tickers)]\n",
    "sp500_20082017_frequent_cluster_label_7th_df = sp500_20082017_df.loc[:, list(frequent_cluster_label_7th_tickers)]\n",
    "sp500_20082017_frequent_cluster_label_last_df = sp500_20082017_df.loc[:, list(frequent_cluster_label_last_tickers)]\n",
    "sp500_20082017_frequent_cluster_label_all_mix_df = sp500_20082017_df.loc[:, list(frequent_cluster_label_all_mix_tickers)]\n",
    "sp500_20082017_frequent_cluster_label_half_mix_df = sp500_20082017_df.loc[:, list(frequent_cluster_label_half_mix_tickers)]\n",
    "\n",
    "src_file_name = str(Path(sp500_20082017_pre_file_name).stem)\n",
    "window_setting = \"corr_s1_w50\"\n",
    "corr_ser_clac_method = \"corr_ser_calc_reg\"\n",
    "corr_mat_compo = \"sim\"\n",
    "corr_ser_reduction_method = \"corr_ser_std\"\n",
    "freq_label_setup = \"label_half_mix\"\n",
    "if freq_label_setup == \"label_1st\":\n",
    "    output_df = sp500_20082017_frequent_cluster_label_1st_df\n",
    "    file_name = cluster_resluts_file_name.stem+\"-pre.csv\"\n",
    "elif freq_label_setup == \"label_2nd\":\n",
    "    output_df = sp500_20082017_frequent_cluster_label_2nd_df\n",
    "    file_name = cluster_resluts_file_name.stem+\"_label_2-pre.csv\"\n",
    "elif freq_label_setup == \"label_7th\":\n",
    "    output_df = sp500_20082017_frequent_cluster_label_7th_df\n",
    "    file_name = cluster_resluts_file_name.stem+\"_label_7-pre.csv\"\n",
    "elif freq_label_setup == \"label_last\":\n",
    "    output_df = sp500_20082017_frequent_cluster_label_last_df\n",
    "    file_name = cluster_resluts_file_name.stem+\"_label_last-pre.csv\"\n",
    "elif freq_label_setup == \"label_all_mix\":\n",
    "    output_df = sp500_20082017_frequent_cluster_label_all_mix_df\n",
    "    file_name = cluster_resluts_file_name.stem+\"_label_all_mix-pre.csv\"\n",
    "elif freq_label_setup == \"label_half_mix\":\n",
    "    output_df = sp500_20082017_frequent_cluster_label_half_mix_df\n",
    "    file_name = cluster_resluts_file_name.stem+\"_label_half_mix-pre.csv\"\n",
    "save_dir = Path(raw_file_dir).parent/src_file_name/window_setting/corr_ser_clac_method/corr_mat_compo/corr_ser_reduction_method\n",
    "save_dir.mkdir(parents=True, exist_ok=True)\n",
    "output_df.to_csv(save_dir/file_name)\n",
    "logging.info(f\"{file_name} has been save to {save_dir}\")"
   ]
  },
  {
   "cell_type": "markdown",
   "id": "eabc110a-1631-48a1-8d21-0dab3360dc9e",
   "metadata": {},
   "source": [
    "## Randon pick items for trainset"
   ]
  },
  {
   "cell_type": "code",
   "execution_count": null,
   "id": "ea862d98-9f1b-4a18-8eb6-b292124244e2",
   "metadata": {
    "tags": []
   },
   "outputs": [],
   "source": [
    "sample_df = gen_random_trainset(list(frequent_cluster_label_half_mix_tickers), train_set_len=10, verbose=1)"
   ]
  },
  {
   "cell_type": "markdown",
   "id": "f3614381-c47a-4eb5-89d7-0747428dfbc2",
   "metadata": {
    "jp-MarkdownHeadingCollapsed": true,
    "tags": []
   },
   "source": [
    "# Synthetic dataset"
   ]
  },
  {
   "cell_type": "code",
   "execution_count": null,
   "id": "4f393a51-9d67-44bc-bafa-da12555cf7cb",
   "metadata": {
    "tags": []
   },
   "outputs": [],
   "source": [
    "synthetic_set = \"pw_constant\"\n",
    "dim = 70  # time_length(number of samples), number of variables(dimension)\n",
    "n_bkps, noise_std = 0, 10  # number of change points, noise standart deviation\n",
    "syn_file_name = Path(f\"{synthetic_set}-bkps{n_bkps}-noise_std{noise_std}.csv\")\n",
    "syn_df = pd.read_csv(raw_file_dir.parent/f\"synthetic/dim{dim}\"/syn_file_name).set_index(\"Date\")\n",
    "\n",
    "syn_df.head()"
   ]
  },
  {
   "cell_type": "markdown",
   "id": "f3500a9d-87a8-463a-a093-e4d77718b7ae",
   "metadata": {},
   "source": [
    "## Output Data"
   ]
  },
  {
   "cell_type": "code",
   "execution_count": null,
   "id": "270aa5f7-e2c0-4c74-92b8-09709f9eee47",
   "metadata": {},
   "outputs": [],
   "source": [
    "cluster_resluts_dir = Path(data_cfg[\"DIRS\"]['PIPELINE_DATA_DIR'])/f\"sp500_20082017-train_all/cluster/corr_s1_w50/corr_ser_calc_regular\"\n",
    "cluster_resluts_file_name = Path(\"corr_mat_hrchy_10_cluster.csv\")  # change this file if there is any better cluster results\n",
    "cluster_resluts_df = pd.read_csv(cluster_resluts_dir/cluster_resluts_file_name, index_col=\"Unnamed: 0\")\n",
    "save_dir = Path(raw_file_dir).parent/src_file_name/window_setting/corr_ser_clac_method/corr_mat_compo/corr_ser_reduction_method\n",
    "save_dir.mkdir(parents=True, exist_ok=True)\n",
    "output_df.to_csv(save_dir/file_name)\n",
    "logging.info(f\"{file_name} has been save to {save_dir}\")"
   ]
  },
  {
   "cell_type": "markdown",
   "id": "eaaa0821-5aca-400f-9fe8-86bbe935eed1",
   "metadata": {},
   "source": [
    "## Randon pick items for trainset"
   ]
  },
  {
   "cell_type": "code",
   "execution_count": null,
   "id": "9a6e9463-3aa0-422d-ac93-26236da16676",
   "metadata": {
    "tags": []
   },
   "outputs": [],
   "source": [
    "sample_train_set = sorted(gen_random_trainset(syn_df.columns.tolist(), train_set_len=60, verbose=1), key=lambda x:int(x.split(\"_\")[1]))\n",
    "print(sample_train_set)"
   ]
  },
  {
   "cell_type": "markdown",
   "id": "4b7d44cb-5236-43b2-9466-d3e61c72c2b0",
   "metadata": {
    "jp-MarkdownHeadingCollapsed": true,
    "tags": []
   },
   "source": [
    "# Mimic Database"
   ]
  },
  {
   "cell_type": "markdown",
   "id": "ade71fee-a4b0-4751-bc2c-10087d40ce40",
   "metadata": {},
   "source": [
    "## visulization all patients' signal"
   ]
  },
  {
   "cell_type": "code",
   "execution_count": null,
   "id": "1f189fe4-9632-4ffc-9ec3-9f97b8820426",
   "metadata": {
    "tags": []
   },
   "outputs": [],
   "source": [
    "numerics_folder = Path(raw_file_dir/\"mimic-database-1.0.0\"/\"numerics\")\n",
    "numerics_files = [f.stem for f in numerics_folder.iterdir()]\n",
    "ignored_files = {\"HEADER\", \"ANNOTATORS\", \"RECORDS\", \".htaccess\", \".ipynb_checkpoints\"}\n",
    "records = sorted(set(numerics_files) - ignored_files)\n",
    "for i,rec in enumerate(records):\n",
    "    record = wfdb.rdrecord(numerics_folder/rec)\n",
    "    wfdb.plot_wfdb(record=record, title=f'{record.record_name}', figsize=(20, 20), sharex=True)"
   ]
  },
  {
   "cell_type": "markdown",
   "id": "b6a3f5d3-dbd4-436f-8752-68ec1f0e47e3",
   "metadata": {},
   "source": [
    "## visulization specific signal & time-period & annotations"
   ]
  },
  {
   "cell_type": "code",
   "execution_count": null,
   "id": "f4cad692-e0fb-4328-a496-261790ad7b9a",
   "metadata": {
    "tags": []
   },
   "outputs": [],
   "source": [
    "record_252n_abp = wfdb.rdrecord(numerics_folder/\"252n\", channels=[1,2], sampfrom=8000, sampto=9500)\n",
    "# display(record_252n_abp record_252n.__dict__)\n",
    "wfdb.plot_items(signal=record_252n_abp.p_signal, sig_name=record_252n_abp.sig_name, sig_units=record_252n_abp.units, title=f'{record_252n_abp.record_name}', figsize=(20, 8), sharex=True)"
   ]
  },
  {
   "cell_type": "code",
   "execution_count": null,
   "id": "8720f15a-83a7-4a0d-aa55-b79ab3791c43",
   "metadata": {},
   "outputs": [],
   "source": [
    "numerics_folder = Path(raw_file_dir/\"mimic-database-1.0.0\"/\"numerics\")\n",
    "record_252n = wfdb.rdrecord(numerics_folder/\"252n\")\n",
    "ann_patient = wfdb.rdann(str(numerics_folder/\"252n\"), 'al', summarize_labels=True)  # al patient alarms\n",
    "ann_monitor = wfdb.rdann(str(numerics_folder/\"252n\"), 'in', summarize_labels=True)  # in monitor status alarms\n",
    "display(len(record_252n.p_signal))\n",
    "\n",
    "record_252n_fig = wfdb.plot_wfdb(record=record_252n, title=f'{record_252n.record_name}', figsize=(20, 20), sharex=True, return_fig=True)\n",
    "plt.xticks(range(0, 110001, 5000))\n",
    "display(ann_patient.description)\n",
    "# display(ann_patient.contained_labels)\n",
    "# display(ann_patient.chan)\n",
    "wfdb.plot_wfdb(annotation=ann_patient)\n",
    "wfdb.plot_wfdb(annotation=ann_monitor)\n",
    "\n",
    "# numpy.savetxt(\"252n.csv\", record_252n.p_signal, delimiter=\",\")"
   ]
  },
  {
   "cell_type": "markdown",
   "id": "9806e1e1-682a-42b4-a5c3-52d046f11f13",
   "metadata": {
    "tags": []
   },
   "source": [
    "## Observe correlation series record_252n_apb"
   ]
  },
  {
   "cell_type": "code",
   "execution_count": null,
   "id": "795bbc13-0d25-474d-9525-a3800c10ad73",
   "metadata": {
    "tags": []
   },
   "outputs": [],
   "source": [
    "# wfdb_fig, wfdb_axes = wfdb.plot_items(signal=record_252n.p_signal, sig_name=record_252n.sig_name, sig_units=record_252n.units, figsize=(20, 8), sharex=True, return_fig_axes=True)  # return matplotlib axes\n",
    "record_252n_abp_corr_series = pd.DataFrame(record_252n_abp.p_signal).rolling(window=100).corr().iloc[pd.IndexSlice[1::2],0].to_numpy()\n",
    "fig1, ax = plt.subplots(3, 1, figsize=(20,12), sharex=True)\n",
    "ax[0].plot(record_252n_abp.p_signal[:,0])\n",
    "ax[0].axvline(x = 1433, color = 'r', label = 'correlation change')\n",
    "# ax[0].axvline(x = 1564, color = 'r', label = 'correlation change')\n",
    "ax[1].plot(record_252n_abp.p_signal[:,1])\n",
    "ax[1].axvline(x = 1433, color = 'r', label = 'correlation change')\n",
    "# ax[1].axvline(x = 1564, color = 'r', label = 'correlation change')\n",
    "ax[2].plot(record_252n_abp_corr_series)\n",
    "ax[2].axvline(x = 1433, color = 'r', label = 'correlation change')\n",
    "# ax[2].axvline(x = 1564, color = 'r', label = 'correlation change')\n",
    "\n",
    "pd.DataFrame(record_252n.p_signal, columns=[\"ABPsys/mmHg\", \"ABBPdias/mmHg\"]).to_csv(\"../../tmp/252n.csv\")\n",
    "pd.DataFrame(record_252n_abp_corr_series, columns=[\"Pearson corr\"]).to_csv(\"../../tmp/252n_abp_corr.csv\")"
   ]
  }
 ],
 "metadata": {
  "kernelspec": {
   "display_name": "Python 3 (ipykernel)",
   "language": "python",
   "name": "python3"
  },
  "language_info": {
   "codemirror_mode": {
    "name": "ipython",
    "version": 3
   },
   "file_extension": ".py",
   "mimetype": "text/x-python",
   "name": "python",
   "nbconvert_exporter": "python",
   "pygments_lexer": "ipython3",
   "version": "3.10.8"
  }
 },
 "nbformat": 4,
 "nbformat_minor": 5
}
