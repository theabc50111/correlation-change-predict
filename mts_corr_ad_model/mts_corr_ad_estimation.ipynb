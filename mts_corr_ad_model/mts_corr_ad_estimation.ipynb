{
 "cells": [
  {
   "cell_type": "code",
   "execution_count": 1,
   "id": "c9b2c178-aa69-4c4c-8ac1-90ba2563a03f",
   "metadata": {},
   "outputs": [
    {
     "name": "stdout",
     "output_type": "stream",
     "text": [
      "time: 385 ms (started: 2023-02-25 00:16:34 +08:00)\n"
     ]
    }
   ],
   "source": [
    "from pathlib import Path\n",
    "from pprint import pformat\n",
    "import logging\n",
    "import json\n",
    "import re\n",
    "\n",
    "import pandas as pd\n",
    "import matplotlib as mpl\n",
    "from matplotlib import pyplot as plt\n",
    "\n",
    "logging.basicConfig(format='%(levelname)-8s [%(filename)s] %(message)s',\n",
    "                    level=logging.INFO)\n",
    "matplotlib_logger = logging.getLogger(\"matplotlib\")\n",
    "matplotlib_logger.setLevel(logging.ERROR)\n",
    "mpl.rcParams[u'font.sans-serif'] = ['simhei']\n",
    "mpl.rcParams['axes.unicode_minus'] = False"
   ]
  },
  {
   "cell_type": "code",
   "execution_count": 2,
   "id": "14c4d0a4-4862-400f-aee9-5ee1d5a7f30e",
   "metadata": {
    "tags": []
   },
   "outputs": [
    {
     "name": "stdout",
     "output_type": "stream",
     "text": [
      "time: 1.99 ms (started: 2023-02-25 00:16:35 +08:00)\n"
     ]
    }
   ],
   "source": [
    "def mts_corr_ad_estimation(log_path_list):\n",
    "    for log_path in log_path_list:\n",
    "        with open(log_path, \"r\") as source:\n",
    "            log_dict = json.load(source)\n",
    "            corr_info = [p for p in log_path.parts if p.startswith(\"corr\")][0]\n",
    "            best_epoch = log_dict['best_val_epoch'] if log_dict.get('best_val_epoch') else 4500\n",
    "            min_val_loss = min(log_dict['val_loss_history'])\n",
    "            tr_batch = log_dict.get('train_batch') if log_dict.get('train_batch') else None\n",
    "            if log_dict.get('model_structure'):\n",
    "                gin_l = len(re.findall(\"\\(\\d\\)GINConv\", log_dict.get('model_structure')))\n",
    "                gin_h = re.search(\"(\\(\\d\\)\\:\\sGINConv.*\\n.*)(out_features\\=)(\\d*)\", log_dict.get('model_structure')).group(3)\n",
    "                gru_l = re.search(\"(\\(gru1\\)\\:.*)(num_layers\\=)(\\d*)\", log_dict.get('model_structure'))[0][-1] if re.search(\"(\\(gru1\\)\\:.*)(num_layers\\=)(\\d*)\", log_dict.get('model_structure')) else 1\n",
    "                gru_h = re.search(\"(\\(gru1\\)\\:\\sGRU\\(\\d*\\,)\\s(\\d*)\", log_dict.get('model_structure')).group(2)\n",
    "            else:\n",
    "                gin_l = None\n",
    "                gin_h = None\n",
    "                gru_l = None\n",
    "                gru_h = None\n",
    "            logging.info(f\"file_name:{log_path.parts}\")\n",
    "        # plot results\n",
    "        fig, axs = plt.subplots(ncols=2, nrows=5, figsize=(25,40))\n",
    "        fig.suptitle(f'{corr_info} with tr_batch({tr_batch}) input to model with gin_l{gin_l}-gin_h{gin_h}-gru_l{gru_l}-gru_h{gru_h}; min val-loss:{min_val_loss:8f}', fontsize=30)\n",
    "        gs = axs[0, 0].get_gridspec()\n",
    "        # remove the upper axes\n",
    "        for ncol in range(2):\n",
    "            for ax in axs[2:, ncol]:\n",
    "                ax.remove()\n",
    "        axbig = fig.add_subplot(gs[2:, :2])\n",
    "        axbig.set_xticks([]); axbig.set_yticks([])\n",
    "        axbig.annotate(text=f\"{log_dict.get('model_structure').__str__()}\",\n",
    "                       xy=(0.15, 0.5), bbox={'facecolor': 'green', 'alpha': 0.4, 'pad': 5},\n",
    "                       fontsize=20, fontfamily='monospace', xycoords='axes fraction', va='center')\n",
    "        axs[0, 0].plot(log_dict.get('train_loss_history'))\n",
    "        axs[0, 1].plot(log_dict.get('val_loss_history'))\n",
    "        axs[1, 0].plot(log_dict.get('train_loss_history')[max(0, best_epoch-250):max(501, best_epoch+251)])\n",
    "        axs[1, 1].plot(log_dict.get('val_loss_history')[max(0, best_epoch-250):max(501, best_epoch+251)])\n",
    "        axs[0, 0].set_title('train_loss_history', fontsize=30)\n",
    "        axs[0, 1].set_title('val_loss_history', fontsize=30)\n",
    "        axs[1, 0].set_title(f\"train_loss_history-epoch{(max(0, best_epoch-250), max(500, best_epoch+250))}\", fontsize=30)\n",
    "        axs[1, 1].set_title(f\"val_loss_history-epoch{(max(0, best_epoch-250), max(500, best_epoch+250))}\", fontsize=30)\n",
    "        axs[1, 0].set_xticks(ticks=range(0, 501, 100), labels=[f\"{x:02d}\" for x in range(max(0, best_epoch-250), max(501, best_epoch+251), 100)])\n",
    "        axs[1, 1].set_xticks(ticks=range(0, 501, 100), labels=[f\"{x:02d}\" for x in range(max(0, best_epoch-250), max(501, best_epoch+251), 100)])\n",
    "        for ax in axs.ravel():\n",
    "            ax.yaxis.offsetText.set_fontsize(30)\n",
    "            ax.tick_params(axis='both', which='major', labelsize=24)\n",
    "        fig.tight_layout(rect=(0, 0, 1, 0.97))\n",
    "        plt.show()\n",
    "        plt.close()"
   ]
  },
  {
   "cell_type": "code",
   "execution_count": 24,
   "id": "87825fad-c2a3-4c17-af2d-7aa3edc0bf35",
   "metadata": {
    "tags": []
   },
   "outputs": [
    {
     "name": "stdout",
     "output_type": "stream",
     "text": [
      "[]\n",
      "time: 566 µs (started: 2023-02-25 00:23:17 +08:00)\n"
     ]
    }
   ],
   "source": [
    "mts_corr_model_log_dir = Path(\"./save_models/sp500_20082017_corr_ser_reg_corr_mat_hrchy_11_cluster-train_train/\")\n",
    "log_path_list = [p for p in mts_corr_model_log_dir.glob(\"./!deprecated*/**/*[.json]\") if p.is_file()]\n",
    "# log_path_list = [p for p in mts_corr_model_log_dir.glob(\"**/*[.json]\") if p.is_file()]\n",
    "\n",
    "print(log_path_list)\n",
    "# mts_corr_ad_estimation(log_path_list)"
   ]
  },
  {
   "cell_type": "code",
   "execution_count": 33,
   "id": "877d8202-de95-4c23-8394-403542d629dc",
   "metadata": {},
   "outputs": [
    {
     "data": {
      "text/plain": [
       "[]"
      ]
     },
     "execution_count": 33,
     "metadata": {},
     "output_type": "execute_result"
    },
    {
     "name": "stdout",
     "output_type": "stream",
     "text": [
      "time: 1.27 ms (started: 2023-02-25 00:24:19 +08:00)\n"
     ]
    }
   ],
   "source": [
    "list(mts_corr_model_log_dir.glob(\"!deprecated*/**\"))"
   ]
  },
  {
   "cell_type": "code",
   "execution_count": null,
   "id": "ad6b60f7-5f50-4fba-9b2c-a05fc23030a9",
   "metadata": {},
   "outputs": [],
   "source": []
  }
 ],
 "metadata": {
  "kernelspec": {
   "display_name": "Python 3 (ipykernel)",
   "language": "python",
   "name": "python3"
  },
  "language_info": {
   "codemirror_mode": {
    "name": "ipython",
    "version": 3
   },
   "file_extension": ".py",
   "mimetype": "text/x-python",
   "name": "python",
   "nbconvert_exporter": "python",
   "pygments_lexer": "ipython3",
   "version": "3.10.8"
  }
 },
 "nbformat": 4,
 "nbformat_minor": 5
}
