{
 "cells": [
  {
   "cell_type": "code",
   "execution_count": 9,
   "id": "4b0641f5-9a4e-41ce-832d-3f4ff2071f59",
   "metadata": {},
   "outputs": [
    {
     "name": "stdout",
     "output_type": "stream",
     "text": [
      "time: 259 µs (started: 2022-12-12 13:55:09 +00:00)\n"
     ]
    }
   ],
   "source": [
    "import pandas as pd"
   ]
  },
  {
   "cell_type": "code",
   "execution_count": 10,
   "id": "008deb99-342d-4430-854d-9fa279484c41",
   "metadata": {},
   "outputs": [
    {
     "name": "stdout",
     "output_type": "stream",
     "text": [
      "arima_resid mean:0.14675665623184275, first_stage_lstm_resid mean:0.02589444719276258\n",
      "time: 218 ms (started: 2022-12-12 13:55:10 +00:00)\n"
     ]
    }
   ],
   "source": [
    "arima_resid_df = pd.read_csv(\"../pipeline_dataset/sp500_20082017-train_train-arima_res/sp500_20082017-train_train-arima_resid-data_sp_train.csv\", index_col=\"items\")\n",
    "first_stage_lstm_resid_df = pd.read_csv(\"../pipeline_dataset/sp500_20082017-train_train-first_stage_lstm_res/sp500_20082017-train_train-first_stage_lstm_resid-data_sp_train.csv\", index_col=\"items\")\n",
    "arima_resid = arima_resid_df.iloc[::, -1]  # only need last period\n",
    "first_stage_lstm_resid = first_stage_lstm_resid_df.iloc[::, -1]  # only need last period\n",
    "print(f\"arima_resid mean:{arima_resid.mean()}, first_stage_lstm_resid mean:{first_stage_lstm_resid.mean()}\")"
   ]
  },
  {
   "cell_type": "code",
   "execution_count": null,
   "id": "613c8c8a-5ef4-4d26-b4de-ce35a9048e70",
   "metadata": {},
   "outputs": [],
   "source": []
  }
 ],
 "metadata": {
  "kernelspec": {
   "display_name": "Python 3 (ipykernel)",
   "language": "python",
   "name": "python3"
  },
  "language_info": {
   "codemirror_mode": {
    "name": "ipython",
    "version": 3
   },
   "file_extension": ".py",
   "mimetype": "text/x-python",
   "name": "python",
   "nbconvert_exporter": "python",
   "pygments_lexer": "ipython3",
   "version": "3.8.10"
  }
 },
 "nbformat": 4,
 "nbformat_minor": 5
}
