{
 "cells": [
  {
   "cell_type": "code",
   "execution_count": 1,
   "id": "41660f84-97c9-4162-a708-f601b3b7a3a5",
   "metadata": {
    "tags": []
   },
   "outputs": [
    {
     "name": "stdout",
     "output_type": "stream",
     "text": [
      "time: 2.02 s (started: 2022-12-12 12:45:46 +00:00)\n"
     ]
    }
   ],
   "source": [
    "from tqdm import tqdm\n",
    "from itertools import combinations\n",
    "from pathlib import Path\n",
    "import sys\n",
    "import warnings\n",
    "import logging\n",
    "from pprint import pformat\n",
    "import os\n",
    "\n",
    "import numpy as np\n",
    "import pandas as pd\n",
    "from pmdarima.arima import ARIMA, auto_arima\n",
    "import tensorflow as tf\n",
    "import tensorflow.keras as keras\n",
    "from tensorflow.keras.models import load_model\n",
    "from tensorflow.keras.layers import Input, LSTM, Dense\n",
    "from tensorflow.keras.callbacks import ModelCheckpoint, TensorBoard\n",
    "from tensorflow.keras.regularizers import l1_l2\n",
    "import dynamic_yaml\n",
    "import yaml\n",
    "from sklearn.metrics import mean_squared_error, mean_absolute_error\n",
    "from sklearn.linear_model import LinearRegression\n",
    "import matplotlib.pyplot as plt\n",
    "import matplotlib as mpl\n",
    "import seaborn as sns\n",
    "from statsmodels.tsa.seasonal import seasonal_decompose\n",
    "\n",
    "sys.path.append(\"/tf/correlation-coef-predict/ywt_library\")\n",
    "import data_generation\n",
    "from data_generation import data_gen_cfg\n",
    "from ywt_arima import arima_model, arima_err_logger_init\n",
    "from stl_decompn import stl_decompn\n",
    "from corr_property import calc_corr_ser_property\n",
    "\n",
    "with open('../../../config/data_config.yaml') as f:\n",
    "    data = dynamic_yaml.load(f)\n",
    "    data_cfg = yaml.full_load(dynamic_yaml.dump(data))\n",
    "\n",
    "warnings.simplefilter(\"ignore\")\n",
    "logging.basicConfig(level=logging.INFO)\n",
    "matplotlib_logger = logging.getLogger(\"matplotlib\")\n",
    "matplotlib_logger.setLevel(logging.ERROR)\n",
    "mpl.rcParams[u'font.sans-serif'] = ['simhei']\n",
    "mpl.rcParams['axes.unicode_minus'] = False\n",
    "# logger_list = [logging.getLogger(name) for name in logging.root.manager.loggerDict]\n",
    "# print(logger_list)\n",
    "\n",
    "\n",
    "# %load_ext pycodestyle_magic\n",
    "# %pycodestyle_on --ignore E501\n",
    "logging.debug(pformat(data_cfg, indent=1, width=100, compact=True))"
   ]
  },
  {
   "cell_type": "markdown",
   "id": "d1a012b1-6376-486e-b5dd-93c76929fc3c",
   "metadata": {
    "tags": []
   },
   "source": [
    "# Prepare data"
   ]
  },
  {
   "cell_type": "markdown",
   "id": "f5ad3949-4662-4abc-8415-f86ed2ab03e1",
   "metadata": {},
   "source": [
    "## Data implement & output setting & testset setting"
   ]
  },
  {
   "cell_type": "code",
   "execution_count": 2,
   "id": "4848bc85-9efc-4bc5-a63a-066bbc4d16ca",
   "metadata": {
    "tags": []
   },
   "outputs": [
    {
     "name": "stdout",
     "output_type": "stream",
     "text": [
      "time: 625 µs (started: 2022-12-12 12:45:48 +00:00)\n"
     ]
    }
   ],
   "source": [
    "# setting of output files\n",
    "save_corr_data = True\n",
    "save_lstm_resid_data = True\n",
    "# data implement setting\n",
    "data_implement = \"PAPER_EVA_5\"  # watch options by operate: print(data_cfg[\"DATASETS\"].keys())\n",
    "# test set setting\n",
    "test_items_setting = \"-test_test\"  # -test_test|-test_all\n",
    "# data split period setting, only suit for only settings of Korean paper\n",
    "data_split_setting = \"-data_sp_test2\"\n",
    "# lstm weight setting\n",
    "first_stage_lstm_weight_setting = \"SP500_20082017_KS_HYPER_FIRST_STAGE_LSTM\"  # watch options by operate: print(data_cfg[\"LSTM_LSTM_LSTM_WEIGHT\"].items())\n",
    "second_stage_lstm_weight_setting = \"SP500_20082017_KS_HYPER_SECOND_STAGE_LSTM\"  # watch options by operate: print(data_cfg[\"LSTM_LSTM_LSTM_WEIGHT\"].items())"
   ]
  },
  {
   "cell_type": "code",
   "execution_count": 3,
   "id": "b431c52f-e408-4b59-b512-ce32d8607d04",
   "metadata": {
    "tags": []
   },
   "outputs": [
    {
     "name": "stderr",
     "output_type": "stream",
     "text": [
      "INFO:root:===== len(train_set): 150, len(all_set): 446, len(test_set): 10 =====\n",
      "INFO:root:===== len(test set): 10 =====\n",
      "INFO:root:===== LSTM weight:-sp500_20082017_kS_hyper_first_stage_lstm_sp500_20082017_kS_hyper_second_stage_lstm & First_stage_LSTM weight:-sp500_20082017_kS_hyper_first_stage_lstm & Second_stage_LSTM weight:-sp500_20082017_kS_hyper_second_stage_lstm =====\n",
      "INFO:root:===== file_name basis:paper_eva5-test_test, fig_title basis:PAPER_EVA_5-test_test-sp500_20082017_kS_hyper_first_stage_lstm_sp500_20082017_kS_hyper_second_stage_lstm-data_sp_test2 =====\n"
     ]
    },
    {
     "name": "stdout",
     "output_type": "stream",
     "text": [
      "time: 110 ms (started: 2022-12-12 12:45:48 +00:00)\n"
     ]
    }
   ],
   "source": [
    "# data loading & implement setting\n",
    "dataset_df = pd.read_csv(data_cfg[\"DATASETS\"][data_implement]['FILE_PATH'])\n",
    "dataset_df = dataset_df.set_index('Date')\n",
    "all_set = list(dataset_df.columns)  # all data\n",
    "train_set = data_cfg[\"DATASETS\"][data_implement]['TRAIN_SET']\n",
    "test_set = data_cfg['DATASETS'][data_implement]['TEST_SET'] if data_cfg['DATASETS'][data_implement].get('TEST_SET') else [p for p in all_set if p not in train_set]  # all data - train data\n",
    "logging.info(f\"===== len(train_set): {len(train_set)}, len(all_set): {len(all_set)}, len(test_set): {len(test_set)} =====\")\n",
    "\n",
    "# test items implement settings\n",
    "items_implement = test_set if test_items_setting == \"-test_test\" else all_set\n",
    "logging.info(f\"===== len(test set): {len(items_implement)} =====\")\n",
    "\n",
    "# lstm_weight settings\n",
    "first_stage_lstm_weight_filepath = data_cfg[\"LSTM_LSTM_LSTM_WEIGHT\"]['FIRST_STAGE_LSTM'][first_stage_lstm_weight_setting][\"FILE_PATH\"]\n",
    "first_stage_lstm_weight_name = data_cfg[\"LSTM_LSTM_LSTM_WEIGHT\"]['FIRST_STAGE_LSTM'][first_stage_lstm_weight_setting][\"LSTM_WEIGHT_NAME\"]\n",
    "second_stage_lstm_weight_filepath = data_cfg[\"LSTM_LSTM_LSTM_WEIGHT\"]['SECOND_STAGE_LSTM'][second_stage_lstm_weight_setting][\"FILE_PATH\"]\n",
    "second_stage_lstm_weight_name = data_cfg[\"LSTM_LSTM_LSTM_WEIGHT\"]['SECOND_STAGE_LSTM'][second_stage_lstm_weight_setting][\"LSTM_WEIGHT_NAME\"]\n",
    "lstm_weight_name = first_stage_lstm_weight_name + \"_\" + second_stage_lstm_weight_name.lstrip(\"-\")\n",
    "logging.info(f\"===== LSTM weight:{lstm_weight_name} & First_stage_LSTM weight:{first_stage_lstm_weight_name} & Second_stage_LSTM weight:{second_stage_lstm_weight_name} =====\")\n",
    "\n",
    "# setting of name of output files and pictures title\n",
    "output_file_name = data_cfg[\"DATASETS\"][data_implement]['OUTPUT_FILE_NAME_BASIS'] + test_items_setting\n",
    "fig_title = data_implement + test_items_setting + lstm_weight_name + data_split_setting\n",
    "logging.info(f\"===== file_name basis:{output_file_name}, fig_title basis:{fig_title} =====\")\n",
    "# display(dataset_df)\n",
    "# display(test_set)\n",
    "\n",
    "# output folder settings\n",
    "corr_data_dir = Path(data_cfg[\"DIRS\"][\"PIPELINE_DATA_DIR\"])/f\"{output_file_name}-corr_data\"\n",
    "first_stage_lstm_result_dir = Path(data_cfg[\"DIRS\"][\"PIPELINE_DATA_DIR\"])/f\"{output_file_name}-first_stage_lstm_res\"\n",
    "corr_property_dir = Path(data_cfg[\"DIRS\"][\"PIPELINE_DATA_DIR\"])/f\"{output_file_name}{lstm_weight_name}-corr_property\"\n",
    "res_dir = Path('./results/')\n",
    "\n",
    "corr_data_dir.mkdir(parents=True, exist_ok=True)\n",
    "first_stage_lstm_result_dir.mkdir(parents=True, exist_ok=True)\n",
    "corr_property_dir.mkdir(parents=True, exist_ok=True)\n",
    "res_dir.mkdir(parents=True, exist_ok=True)"
   ]
  },
  {
   "cell_type": "markdown",
   "id": "633e76df-1712-4ec8-a318-7b2e6bf556f6",
   "metadata": {},
   "source": [
    "## Load or Create Correlation Data"
   ]
  },
  {
   "cell_type": "code",
   "execution_count": 4,
   "id": "18dff757-38bd-4bc9-8926-6ea54ff2ad60",
   "metadata": {},
   "outputs": [
    {
     "name": "stdout",
     "output_type": "stream",
     "text": [
      "time: 6.72 ms (started: 2022-12-12 12:45:49 +00:00)\n"
     ]
    }
   ],
   "source": [
    "data_length = int(len(dataset_df)/data_gen_cfg[\"CORR_WINDOW\"])*data_gen_cfg[\"CORR_WINDOW\"]\n",
    "corr_ser_len_max = int((data_length-data_gen_cfg[\"CORR_WINDOW\"])/data_gen_cfg[\"CORR_STRIDE\"])\n",
    "max_data_div_start_add = 0  # In the Korea paper, each pair has 5 corr_series(due to diversifing train data).\n",
    "                            # BUT we only need to take one, so take 0 as arg.\n",
    "corr_ind = []\n",
    "\n",
    "# DEFAULT SETTING: data_gen_cfg[\"DATA_DIV_STRIDE\"] == 20, data_gen_cfg[\"CORR_WINDOW\"]==100, data_gen_cfg[\"CORR_STRIDE\"]==100\n",
    "data_end_init = corr_ser_len_max * data_gen_cfg[\"CORR_STRIDE\"]\n",
    "for i in range(0, max_data_div_start_add+1, data_gen_cfg[\"DATA_DIV_STRIDE\"]):\n",
    "    corr_ind.extend(list(range(data_gen_cfg[\"CORR_WINDOW\"]-1+i, data_end_init+bool(i)*data_gen_cfg[\"CORR_STRIDE\"], data_gen_cfg[\"CORR_STRIDE\"])))  # only suit for settings of paper\n",
    "\n",
    "train_df_path = corr_data_dir/f\"{output_file_name}-corr_train.csv\"\n",
    "dev_df_path = corr_data_dir/f\"{output_file_name}-corr_dev.csv\"\n",
    "test1_df_path = corr_data_dir/f\"{output_file_name}-corr_test1.csv\"\n",
    "test2_df_path = corr_data_dir/f\"{output_file_name}-corr_test2.csv\"\n",
    "all_corr_df_paths = dict(zip([\"train_df\", \"dev_df\", \"test1_df\", \"test2_df\"],\n",
    "                             [train_df_path, dev_df_path, test1_df_path, test2_df_path]))\n",
    "if all([df_path.exists() for df_path in all_corr_df_paths.values()]):\n",
    "    corr_datasets = [pd.read_csv(df_path).set_index(\"items\") for df_path in all_corr_df_paths.values()]\n",
    "else:\n",
    "    corr_datasets = data_generation.gen_train_data(items_implement, raw_data_df=dataset_df, corr_ser_len_max=corr_ser_len_max, corr_df_paths=all_corr_df_paths, corr_ind=corr_ind, max_data_div_start_add=max_data_div_start_add, save_file=save_corr_data)"
   ]
  },
  {
   "cell_type": "code",
   "execution_count": 5,
   "id": "bd89d9f0-ec59-4066-bc6a-6d4ed2345869",
   "metadata": {
    "tags": []
   },
   "outputs": [
    {
     "name": "stdout",
     "output_type": "stream",
     "text": [
      "(45, 21) (45, 21) (45, 21) (45, 21)\n"
     ]
    },
    {
     "data": {
      "text/html": [
       "<div>\n",
       "<style scoped>\n",
       "    .dataframe tbody tr th:only-of-type {\n",
       "        vertical-align: middle;\n",
       "    }\n",
       "\n",
       "    .dataframe tbody tr th {\n",
       "        vertical-align: top;\n",
       "    }\n",
       "\n",
       "    .dataframe thead th {\n",
       "        text-align: right;\n",
       "    }\n",
       "</style>\n",
       "<table border=\"1\" class=\"dataframe\">\n",
       "  <thead>\n",
       "    <tr style=\"text-align: right;\">\n",
       "      <th></th>\n",
       "      <th>2009-08-03</th>\n",
       "      <th>2009-12-23</th>\n",
       "      <th>2010-05-19</th>\n",
       "      <th>2010-10-11</th>\n",
       "      <th>2011-03-04</th>\n",
       "      <th>2011-07-27</th>\n",
       "      <th>2011-12-16</th>\n",
       "      <th>2012-05-11</th>\n",
       "      <th>2012-10-03</th>\n",
       "      <th>2013-03-01</th>\n",
       "      <th>...</th>\n",
       "      <th>2013-12-13</th>\n",
       "      <th>2014-05-09</th>\n",
       "      <th>2014-10-01</th>\n",
       "      <th>2015-02-25</th>\n",
       "      <th>2015-07-20</th>\n",
       "      <th>2015-12-09</th>\n",
       "      <th>2016-05-04</th>\n",
       "      <th>2016-09-26</th>\n",
       "      <th>2017-02-17</th>\n",
       "      <th>2017-07-12</th>\n",
       "    </tr>\n",
       "    <tr>\n",
       "      <th>items</th>\n",
       "      <th></th>\n",
       "      <th></th>\n",
       "      <th></th>\n",
       "      <th></th>\n",
       "      <th></th>\n",
       "      <th></th>\n",
       "      <th></th>\n",
       "      <th></th>\n",
       "      <th></th>\n",
       "      <th></th>\n",
       "      <th></th>\n",
       "      <th></th>\n",
       "      <th></th>\n",
       "      <th></th>\n",
       "      <th></th>\n",
       "      <th></th>\n",
       "      <th></th>\n",
       "      <th></th>\n",
       "      <th></th>\n",
       "      <th></th>\n",
       "      <th></th>\n",
       "    </tr>\n",
       "  </thead>\n",
       "  <tbody>\n",
       "    <tr>\n",
       "      <th>RL &amp; CVX_0</th>\n",
       "      <td>0.301064</td>\n",
       "      <td>0.870397</td>\n",
       "      <td>0.895088</td>\n",
       "      <td>0.803884</td>\n",
       "      <td>0.763552</td>\n",
       "      <td>0.437946</td>\n",
       "      <td>0.671847</td>\n",
       "      <td>0.239142</td>\n",
       "      <td>0.703358</td>\n",
       "      <td>0.744330</td>\n",
       "      <td>...</td>\n",
       "      <td>0.396555</td>\n",
       "      <td>0.246282</td>\n",
       "      <td>0.103744</td>\n",
       "      <td>0.018330</td>\n",
       "      <td>0.188772</td>\n",
       "      <td>0.739464</td>\n",
       "      <td>-0.214199</td>\n",
       "      <td>0.285949</td>\n",
       "      <td>-0.352241</td>\n",
       "      <td>0.329080</td>\n",
       "    </tr>\n",
       "    <tr>\n",
       "      <th>RL &amp; SRE_0</th>\n",
       "      <td>0.790632</td>\n",
       "      <td>0.730319</td>\n",
       "      <td>-0.084732</td>\n",
       "      <td>0.436641</td>\n",
       "      <td>0.075100</td>\n",
       "      <td>0.239573</td>\n",
       "      <td>0.834490</td>\n",
       "      <td>0.621606</td>\n",
       "      <td>-0.182795</td>\n",
       "      <td>0.716847</td>\n",
       "      <td>...</td>\n",
       "      <td>0.147372</td>\n",
       "      <td>-0.699538</td>\n",
       "      <td>0.845579</td>\n",
       "      <td>0.301462</td>\n",
       "      <td>-0.059212</td>\n",
       "      <td>0.498816</td>\n",
       "      <td>-0.485079</td>\n",
       "      <td>-0.038546</td>\n",
       "      <td>-0.566531</td>\n",
       "      <td>-0.646733</td>\n",
       "    </tr>\n",
       "    <tr>\n",
       "      <th>RL &amp; PFE_0</th>\n",
       "      <td>0.564977</td>\n",
       "      <td>0.818158</td>\n",
       "      <td>-0.480834</td>\n",
       "      <td>0.763143</td>\n",
       "      <td>0.574459</td>\n",
       "      <td>0.024463</td>\n",
       "      <td>0.594550</td>\n",
       "      <td>0.326973</td>\n",
       "      <td>0.642624</td>\n",
       "      <td>0.814403</td>\n",
       "      <td>...</td>\n",
       "      <td>0.295343</td>\n",
       "      <td>-0.127333</td>\n",
       "      <td>0.264612</td>\n",
       "      <td>-0.320824</td>\n",
       "      <td>0.324266</td>\n",
       "      <td>0.422991</td>\n",
       "      <td>0.260550</td>\n",
       "      <td>0.421538</td>\n",
       "      <td>-0.299269</td>\n",
       "      <td>0.688240</td>\n",
       "    </tr>\n",
       "    <tr>\n",
       "      <th>RL &amp; PCG_0</th>\n",
       "      <td>0.339819</td>\n",
       "      <td>0.807740</td>\n",
       "      <td>0.524705</td>\n",
       "      <td>0.332761</td>\n",
       "      <td>-0.406163</td>\n",
       "      <td>0.252804</td>\n",
       "      <td>0.161449</td>\n",
       "      <td>0.664963</td>\n",
       "      <td>-0.439473</td>\n",
       "      <td>0.641441</td>\n",
       "      <td>...</td>\n",
       "      <td>0.657380</td>\n",
       "      <td>-0.714851</td>\n",
       "      <td>0.375525</td>\n",
       "      <td>-0.081017</td>\n",
       "      <td>-0.082666</td>\n",
       "      <td>0.394830</td>\n",
       "      <td>-0.629094</td>\n",
       "      <td>0.496083</td>\n",
       "      <td>-0.843001</td>\n",
       "      <td>-0.363489</td>\n",
       "    </tr>\n",
       "    <tr>\n",
       "      <th>RL &amp; UTX_0</th>\n",
       "      <td>0.831322</td>\n",
       "      <td>0.883203</td>\n",
       "      <td>0.849775</td>\n",
       "      <td>0.618308</td>\n",
       "      <td>0.838397</td>\n",
       "      <td>0.736680</td>\n",
       "      <td>0.616601</td>\n",
       "      <td>0.929394</td>\n",
       "      <td>0.877688</td>\n",
       "      <td>0.790357</td>\n",
       "      <td>...</td>\n",
       "      <td>0.109723</td>\n",
       "      <td>-0.404965</td>\n",
       "      <td>-0.599698</td>\n",
       "      <td>-0.214931</td>\n",
       "      <td>0.015344</td>\n",
       "      <td>0.669646</td>\n",
       "      <td>-0.228797</td>\n",
       "      <td>0.817915</td>\n",
       "      <td>-0.422043</td>\n",
       "      <td>-0.706079</td>\n",
       "    </tr>\n",
       "  </tbody>\n",
       "</table>\n",
       "<p>5 rows × 21 columns</p>\n",
       "</div>"
      ],
      "text/plain": [
       "            2009-08-03  2009-12-23  2010-05-19  2010-10-11  2011-03-04  \\\n",
       "items                                                                    \n",
       "RL & CVX_0    0.301064    0.870397    0.895088    0.803884    0.763552   \n",
       "RL & SRE_0    0.790632    0.730319   -0.084732    0.436641    0.075100   \n",
       "RL & PFE_0    0.564977    0.818158   -0.480834    0.763143    0.574459   \n",
       "RL & PCG_0    0.339819    0.807740    0.524705    0.332761   -0.406163   \n",
       "RL & UTX_0    0.831322    0.883203    0.849775    0.618308    0.838397   \n",
       "\n",
       "            2011-07-27  2011-12-16  2012-05-11  2012-10-03  2013-03-01  ...  \\\n",
       "items                                                                   ...   \n",
       "RL & CVX_0    0.437946    0.671847    0.239142    0.703358    0.744330  ...   \n",
       "RL & SRE_0    0.239573    0.834490    0.621606   -0.182795    0.716847  ...   \n",
       "RL & PFE_0    0.024463    0.594550    0.326973    0.642624    0.814403  ...   \n",
       "RL & PCG_0    0.252804    0.161449    0.664963   -0.439473    0.641441  ...   \n",
       "RL & UTX_0    0.736680    0.616601    0.929394    0.877688    0.790357  ...   \n",
       "\n",
       "            2013-12-13  2014-05-09  2014-10-01  2015-02-25  2015-07-20  \\\n",
       "items                                                                    \n",
       "RL & CVX_0    0.396555    0.246282    0.103744    0.018330    0.188772   \n",
       "RL & SRE_0    0.147372   -0.699538    0.845579    0.301462   -0.059212   \n",
       "RL & PFE_0    0.295343   -0.127333    0.264612   -0.320824    0.324266   \n",
       "RL & PCG_0    0.657380   -0.714851    0.375525   -0.081017   -0.082666   \n",
       "RL & UTX_0    0.109723   -0.404965   -0.599698   -0.214931    0.015344   \n",
       "\n",
       "            2015-12-09  2016-05-04  2016-09-26  2017-02-17  2017-07-12  \n",
       "items                                                                   \n",
       "RL & CVX_0    0.739464   -0.214199    0.285949   -0.352241    0.329080  \n",
       "RL & SRE_0    0.498816   -0.485079   -0.038546   -0.566531   -0.646733  \n",
       "RL & PFE_0    0.422991    0.260550    0.421538   -0.299269    0.688240  \n",
       "RL & PCG_0    0.394830   -0.629094    0.496083   -0.843001   -0.363489  \n",
       "RL & UTX_0    0.669646   -0.228797    0.817915   -0.422043   -0.706079  \n",
       "\n",
       "[5 rows x 21 columns]"
      ]
     },
     "metadata": {},
     "output_type": "display_data"
    },
    {
     "name": "stdout",
     "output_type": "stream",
     "text": [
      "time: 14.1 ms (started: 2022-12-12 12:45:49 +00:00)\n"
     ]
    }
   ],
   "source": [
    "if data_split_setting == \"-data_sp_test2\":\n",
    "    corr_dataset = corr_datasets[3]\n",
    "print(corr_datasets[0].shape, corr_datasets[1].shape, corr_datasets[2].shape, corr_datasets[3].shape)\n",
    "# display(corr_dataset.iloc[0,::])\n",
    "display(corr_dataset.head())"
   ]
  },
  {
   "cell_type": "markdown",
   "id": "f7976949-33c7-45c0-b6e9-c8cace53672a",
   "metadata": {
    "tags": []
   },
   "source": [
    "# LSTM model for first stage prediciton"
   ]
  },
  {
   "cell_type": "markdown",
   "id": "16bb7cdb-dc9e-4e6d-8252-87fe8d156d84",
   "metadata": {},
   "source": [
    "## settings of first stage LSTM"
   ]
  },
  {
   "cell_type": "code",
   "execution_count": 6,
   "id": "6bdca3f1-037b-4984-bc33-134d98b4a056",
   "metadata": {},
   "outputs": [
    {
     "name": "stdout",
     "output_type": "stream",
     "text": [
      "time: 435 µs (started: 2022-12-12 12:45:49 +00:00)\n"
     ]
    }
   ],
   "source": [
    "first_stage_lstm_batch_size = 64\n",
    "first_stage_lstm_metrics = ['mse', 'mae']\n",
    "\n",
    "def double_tanh(x):\n",
    "    return (tf.math.tanh(x) *2)"
   ]
  },
  {
   "cell_type": "code",
   "execution_count": 7,
   "id": "3b449a12-f4d5-46f7-bd36-04b83a2a65f8",
   "metadata": {},
   "outputs": [
    {
     "name": "stderr",
     "output_type": "stream",
     "text": [
      "2022-12-12 12:45:49.928981: I tensorflow/stream_executor/cuda/cuda_gpu_executor.cc:975] successful NUMA node read from SysFS had negative value (-1), but there must be at least one NUMA node, so returning NUMA node zero\n",
      "2022-12-12 12:45:49.931801: I tensorflow/stream_executor/cuda/cuda_gpu_executor.cc:975] successful NUMA node read from SysFS had negative value (-1), but there must be at least one NUMA node, so returning NUMA node zero\n",
      "2022-12-12 12:45:49.931936: I tensorflow/stream_executor/cuda/cuda_gpu_executor.cc:975] successful NUMA node read from SysFS had negative value (-1), but there must be at least one NUMA node, so returning NUMA node zero\n",
      "2022-12-12 12:45:49.932612: I tensorflow/core/platform/cpu_feature_guard.cc:193] This TensorFlow binary is optimized with oneAPI Deep Neural Network Library (oneDNN) to use the following CPU instructions in performance-critical operations:  AVX2 FMA\n",
      "To enable them in other operations, rebuild TensorFlow with the appropriate compiler flags.\n",
      "2022-12-12 12:45:49.933399: I tensorflow/stream_executor/cuda/cuda_gpu_executor.cc:975] successful NUMA node read from SysFS had negative value (-1), but there must be at least one NUMA node, so returning NUMA node zero\n",
      "2022-12-12 12:45:49.933532: I tensorflow/stream_executor/cuda/cuda_gpu_executor.cc:975] successful NUMA node read from SysFS had negative value (-1), but there must be at least one NUMA node, so returning NUMA node zero\n",
      "2022-12-12 12:45:49.933653: I tensorflow/stream_executor/cuda/cuda_gpu_executor.cc:975] successful NUMA node read from SysFS had negative value (-1), but there must be at least one NUMA node, so returning NUMA node zero\n",
      "2022-12-12 12:45:50.248417: I tensorflow/stream_executor/cuda/cuda_gpu_executor.cc:975] successful NUMA node read from SysFS had negative value (-1), but there must be at least one NUMA node, so returning NUMA node zero\n",
      "2022-12-12 12:45:50.248583: I tensorflow/stream_executor/cuda/cuda_gpu_executor.cc:975] successful NUMA node read from SysFS had negative value (-1), but there must be at least one NUMA node, so returning NUMA node zero\n",
      "2022-12-12 12:45:50.248714: I tensorflow/stream_executor/cuda/cuda_gpu_executor.cc:975] successful NUMA node read from SysFS had negative value (-1), but there must be at least one NUMA node, so returning NUMA node zero\n",
      "2022-12-12 12:45:50.248810: I tensorflow/core/common_runtime/gpu/gpu_device.cc:1532] Created device /job:localhost/replica:0/task:0/device:GPU:0 with 22308 MB memory:  -> device: 0, name: NVIDIA GeForce RTX 3090, pci bus id: 0000:0b:00.0, compute capability: 8.6\n",
      "2022-12-12 12:45:51.211083: I tensorflow/stream_executor/cuda/cuda_dnn.cc:384] Loaded cuDNN version 8100\n"
     ]
    },
    {
     "name": "stdout",
     "output_type": "stream",
     "text": [
      "2/2 [==============================] - 1s 3ms/step\n",
      "time: 2.54 s (started: 2022-12-12 12:45:49 +00:00)\n"
     ]
    },
    {
     "name": "stderr",
     "output_type": "stream",
     "text": [
      "2022-12-12 12:45:51.644970: I tensorflow/stream_executor/cuda/cuda_blas.cc:1786] TensorFloat-32 will be used for the matrix multiplication. This will only be logged once.\n"
     ]
    }
   ],
   "source": [
    "def first_stage_lstm_model(lstm_weight_path: \"pathlib.PosixPath\", dataset: \"pd.DataFrame\", first_stage_lstm_result_path_basis: \"pathlib.PosixPath\", data_split_setting: str = \"\", save_file: bool = False) -> (\"pd.DataFrame\", \"pd.DataFrame\", \"pd.DataFrame\"):\n",
    "    best_first_stage_lstm_model = load_model(lstm_weight_path, custom_objects={'double_tanh':double_tanh})\n",
    "    pred_input_len = dataset.shape[1]-1\n",
    "    pred_input = dataset.iloc[::, :pred_input_len].values.reshape(-1, pred_input_len, 1)\n",
    "    dataset.columns = pd.RangeIndex(dataset.shape[1])  # in order to align dataset & first_stage_lstm_output_df\n",
    "    fisrt_stage_lstm_pred = best_first_stage_lstm_model.predict(pred_input)\n",
    "    first_stage_lstm_output_df = pd.DataFrame(fisrt_stage_lstm_pred, index=dataset.index)\n",
    "    first_stage_lstm_resid_df = dataset - first_stage_lstm_output_df\n",
    "\n",
    "    if save_file:\n",
    "        first_stage_lstm_output_df.to_csv(first_stage_lstm_result_path_basis.parent/(str(first_stage_lstm_result_path_basis.stem) + f'-first_stage_lstm_output{data_split_setting}.csv'))\n",
    "        first_stage_lstm_resid_df.to_csv(first_stage_lstm_result_path_basis.parent/(str(first_stage_lstm_result_path_basis.stem) + f'-first_stage_lstm_resid{data_split_setting}.csv'))\n",
    "\n",
    "    return first_stage_lstm_output_df, first_stage_lstm_resid_df\n",
    "\n",
    "first_stage_lstm_result_path_basis = first_stage_lstm_result_dir/f'{output_file_name}.csv'\n",
    "first_stage_lstm_result_paths = []\n",
    "first_stage_lstm_result_types = [\"-first_stage_lstm_output\", \"-first_stage_lstm_resid\"]\n",
    "\n",
    "for first_stage_lstm_result_type in first_stage_lstm_result_types:\n",
    "    first_stage_lstm_result_paths.append(first_stage_lstm_result_dir/f'{output_file_name}{first_stage_lstm_result_type}{data_split_setting}.csv')\n",
    "\n",
    "if all([df_path.exists() for df_path in first_stage_lstm_result_paths]):\n",
    "    first_stage_lstm_output_df, first_stage_lstm_resid_df = [pd.read_csv(first_stage_lstm_result_path, index_col='items') for first_stage_lstm_result_path in first_stage_lstm_result_paths ]\n",
    "else:\n",
    "    first_stage_lstm_output_df, first_stage_lstm_resid_df = first_stage_lstm_model(first_stage_lstm_weight_filepath, corr_dataset, first_stage_lstm_result_path_basis=first_stage_lstm_result_path_basis, data_split_setting=data_split_setting, save_file=save_lstm_resid_data)"
   ]
  },
  {
   "cell_type": "code",
   "execution_count": 8,
   "id": "4a1bfef6-4dde-409f-aa4a-e04cdfad0079",
   "metadata": {},
   "outputs": [
    {
     "name": "stdout",
     "output_type": "stream",
     "text": [
      "time: 566 µs (started: 2022-12-12 12:45:51 +00:00)\n"
     ]
    }
   ],
   "source": [
    "# first_stage_lstm_result_path_basis = first_stage_lstm_result_dir/f'{output_file_name}.csv'\n",
    "# arima_result_types = [\"-arima_output\", \"-arima_resid\", \"-arima_model_info\"]\n",
    "# arima_result_paths = []\n",
    "# arima_err_logger_init(Path(os.path.abspath(''))/f\"results\")\n",
    "\n",
    "# for arima_result_type in arima_result_types:\n",
    "#     arima_result_paths.append(arima_result_dir/f'{output_file_name}{arima_result_type}{data_split_setting}.csv')\n",
    "\n",
    "# if all([df_path.exists() for df_path in arima_result_paths]):\n",
    "#     arima_output_df, arima_resid_df, arima_model_info_df = [pd.read_csv(arima_result_path, index_col=\"items\") for arima_result_path in arima_result_paths]\n",
    "# else:\n",
    "#     arima_output_df, arima_resid_df, arima_model_info_df = arima_model(corr_dataset, arima_result_path_basis=arima_result_path_basis, data_split_setting=data_split_setting, save_file=save_arima_resid_data)"
   ]
  },
  {
   "cell_type": "markdown",
   "id": "dfb455ad-4103-403d-a65f-ba8a13038295",
   "metadata": {
    "tags": []
   },
   "source": [
    "# LSTM for second stage prediction (for residual)"
   ]
  },
  {
   "cell_type": "code",
   "execution_count": 9,
   "id": "35591071-44de-4a02-8dfa-fb85bb7ae29d",
   "metadata": {
    "tags": []
   },
   "outputs": [
    {
     "name": "stdout",
     "output_type": "stream",
     "text": [
      "Model: \"lstm_lstm_second_stage-lstm1_fc1-kS_hyper\"\n",
      "_________________________________________________________________\n",
      " Layer (type)                Output Shape              Param #   \n",
      "=================================================================\n",
      " input_1 (InputLayer)        [(None, 20, 1)]           0         \n",
      "                                                                 \n",
      " lstm-kS_hyper (LSTM)        (None, 10)                480       \n",
      "                                                                 \n",
      " dense (Dense)               (None, 1)                 11        \n",
      "                                                                 \n",
      "=================================================================\n",
      "Total params: 491\n",
      "Trainable params: 491\n",
      "Non-trainable params: 0\n",
      "_________________________________________________________________\n",
      "2/2 [==============================] - 0s 2ms/step\n",
      "time: 354 ms (started: 2022-12-12 12:45:51 +00:00)\n"
     ]
    }
   ],
   "source": [
    "def double_tanh(x):\n",
    "    return (tf.math.tanh(x) * 2)\n",
    "\n",
    "\n",
    "second_stage_lstm_model = load_model(second_stage_lstm_weight_filepath, custom_objects={'double_tanh':double_tanh})\n",
    "second_stage_lstm_model.summary()\n",
    "\n",
    "second_stage_lstm_input = first_stage_lstm_resid_df.iloc[::,:-1].values.reshape(-1, 20, 1)\n",
    "second_stage_lstm_pred = second_stage_lstm_model.predict(second_stage_lstm_input)\n",
    "second_stage_lstm_pred = pd.DataFrame(second_stage_lstm_pred, index=first_stage_lstm_resid_df.index, columns=[\"second_stage_lstm_pred\"])"
   ]
  },
  {
   "cell_type": "markdown",
   "id": "65707dce-375f-4d15-84fd-e4edf9133cac",
   "metadata": {
    "tags": []
   },
   "source": [
    "# Hybrid model"
   ]
  },
  {
   "cell_type": "markdown",
   "id": "8dc683e2-8879-4fb2-ba95-50403889c18d",
   "metadata": {
    "tags": []
   },
   "source": [
    "## Results post-processing"
   ]
  },
  {
   "cell_type": "code",
   "execution_count": 10,
   "id": "1924c24c-df58-4521-9f33-5f8a0fe8124c",
   "metadata": {},
   "outputs": [
    {
     "name": "stdout",
     "output_type": "stream",
     "text": [
      "time: 245 ms (started: 2022-12-12 12:45:52 +00:00)\n"
     ]
    }
   ],
   "source": [
    "def res_df_postprocess(merge_dfs: list) -> \"pd.DataFrame\":\n",
    "\n",
    "    tmp_df = pd.DataFrame(columns=[\"items\"])\n",
    "    for merge_df in merge_dfs:\n",
    "        tmp_df = pd.merge(tmp_df, merge_df, on=\"items\", how='outer')\n",
    "    else:\n",
    "        results_df = tmp_df.reset_index(drop=True)\n",
    "\n",
    "    results_df[\"hybrid_model_pred\"] =  results_df[\"first_stage_lstm_pred\"] + results_df[\"second_stage_lstm_pred\"]\n",
    "    results_df[\"error\"] = results_df[\"ground_truth\"] - results_df[\"hybrid_model_pred\"]\n",
    "    results_df[\"absolute_err\"] = results_df[\"error\"].abs()\n",
    "    results_df['first_stage_lstm_pred_dir'] = np.sign(results_df['ground_truth'] * results_df['first_stage_lstm_pred'])\n",
    "    results_df['first_stage_lstm_err'] = results_df['ground_truth'] - results_df['first_stage_lstm_pred']\n",
    "    results_df[\"lstm_compensation_dir\"] = np.sign(results_df['first_stage_lstm_err']) * np.sign(results_df['second_stage_lstm_pred'])\n",
    "    quantile_mask = np.logical_and(results_df['error'] < np.quantile(results_df['error'], 0.75), results_df['error'] > np.quantile(results_df['error'], 0.25)).tolist()\n",
    "    # display(np.quantile(res_df['error'], 0.75), np.quantile(res_df['error'], 0.25))\n",
    "    results_df['high_pred_performance'] = quantile_mask\n",
    "    results_df['items[0]'] = results_df.apply(lambda row:row['items'].split(\" & \")[0], axis=1)\n",
    "    results_df['items[1]'] = results_df.apply(lambda row:row['items'].split(\" & \")[1][:-2], axis=1)\n",
    "    results_df = results_df.set_index(\"items\")\n",
    "\n",
    "    return results_df\n",
    "\n",
    "\n",
    "# stl_decompn(corr_datasets[0].iloc[0,::], overview=True)\n",
    "corr_property_df_path = corr_property_dir/f\"{output_file_name}{lstm_weight_name}{data_split_setting}-corr_series_property.csv\"\n",
    "\n",
    "if corr_property_df_path.exists():\n",
    "    corr_property_df = pd.read_csv(corr_property_df_path)\n",
    "else:\n",
    "    corr_property_df = calc_corr_ser_property(corr_dataset=corr_dataset, corr_property_df_path=corr_property_df_path)\n",
    "\n",
    "ground_truth = corr_dataset.iloc[::, -1]\n",
    "ground_truth.name = \"ground_truth\"\n",
    "first_stage_lstm_pred = first_stage_lstm_output_df.iloc[::, -1]\n",
    "first_stage_lstm_pred.name = \"first_stage_lstm_pred\"\n",
    "merge_dfs = [corr_property_df, first_stage_lstm_pred, second_stage_lstm_pred, ground_truth]\n",
    "\n",
    "res_df = res_df_postprocess(merge_dfs)\n",
    "res_df.to_csv(res_dir/f\"{output_file_name}{lstm_weight_name}{data_split_setting}-res.csv\")"
   ]
  },
  {
   "cell_type": "markdown",
   "id": "b6d8daca-b55f-4a00-b162-4968bf696c50",
   "metadata": {
    "tags": []
   },
   "source": [
    "# Display results"
   ]
  },
  {
   "cell_type": "code",
   "execution_count": 11,
   "id": "f84895d7-ae0e-4cf9-9ecc-2adf76c38462",
   "metadata": {
    "tags": []
   },
   "outputs": [
    {
     "data": {
      "text/plain": [
       "Index(['corr_stl_period', 'corr_stl_resid', 'corr_stl_trend_std',\n",
       "       'corr_stl_trend_coef', 'corr_ser_mean', 'corr_ser_std',\n",
       "       'first_stage_lstm_pred', 'second_stage_lstm_pred', 'ground_truth',\n",
       "       'hybrid_model_pred', 'error', 'absolute_err',\n",
       "       'first_stage_lstm_pred_dir', 'first_stage_lstm_err',\n",
       "       'lstm_compensation_dir', 'high_pred_performance', 'items[0]',\n",
       "       'items[1]'],\n",
       "      dtype='object')"
      ]
     },
     "metadata": {},
     "output_type": "display_data"
    },
    {
     "data": {
      "text/plain": [
       "(45, 18)"
      ]
     },
     "metadata": {},
     "output_type": "display_data"
    },
    {
     "data": {
      "text/html": [
       "<div>\n",
       "<style scoped>\n",
       "    .dataframe tbody tr th:only-of-type {\n",
       "        vertical-align: middle;\n",
       "    }\n",
       "\n",
       "    .dataframe tbody tr th {\n",
       "        vertical-align: top;\n",
       "    }\n",
       "\n",
       "    .dataframe thead th {\n",
       "        text-align: right;\n",
       "    }\n",
       "</style>\n",
       "<table border=\"1\" class=\"dataframe\">\n",
       "  <thead>\n",
       "    <tr style=\"text-align: right;\">\n",
       "      <th></th>\n",
       "      <th>corr_stl_period</th>\n",
       "      <th>corr_stl_resid</th>\n",
       "      <th>corr_stl_trend_std</th>\n",
       "      <th>corr_stl_trend_coef</th>\n",
       "      <th>corr_ser_mean</th>\n",
       "      <th>corr_ser_std</th>\n",
       "      <th>first_stage_lstm_pred</th>\n",
       "      <th>second_stage_lstm_pred</th>\n",
       "      <th>ground_truth</th>\n",
       "      <th>hybrid_model_pred</th>\n",
       "      <th>error</th>\n",
       "      <th>absolute_err</th>\n",
       "      <th>first_stage_lstm_pred_dir</th>\n",
       "      <th>first_stage_lstm_err</th>\n",
       "      <th>lstm_compensation_dir</th>\n",
       "      <th>high_pred_performance</th>\n",
       "      <th>items[0]</th>\n",
       "      <th>items[1]</th>\n",
       "    </tr>\n",
       "    <tr>\n",
       "      <th>items</th>\n",
       "      <th></th>\n",
       "      <th></th>\n",
       "      <th></th>\n",
       "      <th></th>\n",
       "      <th></th>\n",
       "      <th></th>\n",
       "      <th></th>\n",
       "      <th></th>\n",
       "      <th></th>\n",
       "      <th></th>\n",
       "      <th></th>\n",
       "      <th></th>\n",
       "      <th></th>\n",
       "      <th></th>\n",
       "      <th></th>\n",
       "      <th></th>\n",
       "      <th></th>\n",
       "      <th></th>\n",
       "    </tr>\n",
       "  </thead>\n",
       "  <tbody>\n",
       "    <tr>\n",
       "      <th>RL &amp; CVX_0</th>\n",
       "      <td>10</td>\n",
       "      <td>0.546378</td>\n",
       "      <td>0.154787</td>\n",
       "      <td>-0.046069</td>\n",
       "      <td>0.424903</td>\n",
       "      <td>0.358556</td>\n",
       "      <td>0.320210</td>\n",
       "      <td>0.009144</td>\n",
       "      <td>0.329080</td>\n",
       "      <td>0.329354</td>\n",
       "      <td>-0.000274</td>\n",
       "      <td>0.000274</td>\n",
       "      <td>1.0</td>\n",
       "      <td>0.008870</td>\n",
       "      <td>1.0</td>\n",
       "      <td>True</td>\n",
       "      <td>RL</td>\n",
       "      <td>CVX</td>\n",
       "    </tr>\n",
       "    <tr>\n",
       "      <th>RL &amp; SRE_0</th>\n",
       "      <td>10</td>\n",
       "      <td>0.682961</td>\n",
       "      <td>0.121800</td>\n",
       "      <td>-0.033396</td>\n",
       "      <td>0.190953</td>\n",
       "      <td>0.505713</td>\n",
       "      <td>0.284371</td>\n",
       "      <td>-0.004779</td>\n",
       "      <td>-0.646733</td>\n",
       "      <td>0.279592</td>\n",
       "      <td>-0.926325</td>\n",
       "      <td>0.926325</td>\n",
       "      <td>-1.0</td>\n",
       "      <td>-0.931104</td>\n",
       "      <td>1.0</td>\n",
       "      <td>False</td>\n",
       "      <td>RL</td>\n",
       "      <td>SRE</td>\n",
       "    </tr>\n",
       "    <tr>\n",
       "      <th>RL &amp; PFE_0</th>\n",
       "      <td>9</td>\n",
       "      <td>0.640048</td>\n",
       "      <td>0.106715</td>\n",
       "      <td>-0.026128</td>\n",
       "      <td>0.315684</td>\n",
       "      <td>0.383996</td>\n",
       "      <td>0.293569</td>\n",
       "      <td>-0.165402</td>\n",
       "      <td>0.688240</td>\n",
       "      <td>0.128167</td>\n",
       "      <td>0.560073</td>\n",
       "      <td>0.560073</td>\n",
       "      <td>1.0</td>\n",
       "      <td>0.394671</td>\n",
       "      <td>-1.0</td>\n",
       "      <td>False</td>\n",
       "      <td>RL</td>\n",
       "      <td>PFE</td>\n",
       "    </tr>\n",
       "    <tr>\n",
       "      <th>RL &amp; PCG_0</th>\n",
       "      <td>10</td>\n",
       "      <td>0.171971</td>\n",
       "      <td>0.095152</td>\n",
       "      <td>-0.026904</td>\n",
       "      <td>0.118185</td>\n",
       "      <td>0.502704</td>\n",
       "      <td>0.258974</td>\n",
       "      <td>0.025521</td>\n",
       "      <td>-0.363489</td>\n",
       "      <td>0.284495</td>\n",
       "      <td>-0.647984</td>\n",
       "      <td>0.647984</td>\n",
       "      <td>-1.0</td>\n",
       "      <td>-0.622463</td>\n",
       "      <td>-1.0</td>\n",
       "      <td>True</td>\n",
       "      <td>RL</td>\n",
       "      <td>PCG</td>\n",
       "    </tr>\n",
       "    <tr>\n",
       "      <th>RL &amp; UTX_0</th>\n",
       "      <td>10</td>\n",
       "      <td>0.695509</td>\n",
       "      <td>0.267087</td>\n",
       "      <td>-0.079783</td>\n",
       "      <td>0.358892</td>\n",
       "      <td>0.568486</td>\n",
       "      <td>0.295060</td>\n",
       "      <td>-0.041990</td>\n",
       "      <td>-0.706079</td>\n",
       "      <td>0.253069</td>\n",
       "      <td>-0.959148</td>\n",
       "      <td>0.959148</td>\n",
       "      <td>-1.0</td>\n",
       "      <td>-1.001138</td>\n",
       "      <td>1.0</td>\n",
       "      <td>False</td>\n",
       "      <td>RL</td>\n",
       "      <td>UTX</td>\n",
       "    </tr>\n",
       "  </tbody>\n",
       "</table>\n",
       "</div>"
      ],
      "text/plain": [
       "            corr_stl_period  corr_stl_resid  corr_stl_trend_std  \\\n",
       "items                                                             \n",
       "RL & CVX_0               10        0.546378            0.154787   \n",
       "RL & SRE_0               10        0.682961            0.121800   \n",
       "RL & PFE_0                9        0.640048            0.106715   \n",
       "RL & PCG_0               10        0.171971            0.095152   \n",
       "RL & UTX_0               10        0.695509            0.267087   \n",
       "\n",
       "            corr_stl_trend_coef  corr_ser_mean  corr_ser_std  \\\n",
       "items                                                          \n",
       "RL & CVX_0            -0.046069       0.424903      0.358556   \n",
       "RL & SRE_0            -0.033396       0.190953      0.505713   \n",
       "RL & PFE_0            -0.026128       0.315684      0.383996   \n",
       "RL & PCG_0            -0.026904       0.118185      0.502704   \n",
       "RL & UTX_0            -0.079783       0.358892      0.568486   \n",
       "\n",
       "            first_stage_lstm_pred  second_stage_lstm_pred  ground_truth  \\\n",
       "items                                                                     \n",
       "RL & CVX_0               0.320210                0.009144      0.329080   \n",
       "RL & SRE_0               0.284371               -0.004779     -0.646733   \n",
       "RL & PFE_0               0.293569               -0.165402      0.688240   \n",
       "RL & PCG_0               0.258974                0.025521     -0.363489   \n",
       "RL & UTX_0               0.295060               -0.041990     -0.706079   \n",
       "\n",
       "            hybrid_model_pred     error  absolute_err  \\\n",
       "items                                                   \n",
       "RL & CVX_0           0.329354 -0.000274      0.000274   \n",
       "RL & SRE_0           0.279592 -0.926325      0.926325   \n",
       "RL & PFE_0           0.128167  0.560073      0.560073   \n",
       "RL & PCG_0           0.284495 -0.647984      0.647984   \n",
       "RL & UTX_0           0.253069 -0.959148      0.959148   \n",
       "\n",
       "            first_stage_lstm_pred_dir  first_stage_lstm_err  \\\n",
       "items                                                         \n",
       "RL & CVX_0                        1.0              0.008870   \n",
       "RL & SRE_0                       -1.0             -0.931104   \n",
       "RL & PFE_0                        1.0              0.394671   \n",
       "RL & PCG_0                       -1.0             -0.622463   \n",
       "RL & UTX_0                       -1.0             -1.001138   \n",
       "\n",
       "            lstm_compensation_dir  high_pred_performance items[0] items[1]  \n",
       "items                                                                       \n",
       "RL & CVX_0                    1.0                   True       RL      CVX  \n",
       "RL & SRE_0                    1.0                  False       RL      SRE  \n",
       "RL & PFE_0                   -1.0                  False       RL      PFE  \n",
       "RL & PCG_0                   -1.0                   True       RL      PCG  \n",
       "RL & UTX_0                    1.0                  False       RL      UTX  "
      ]
     },
     "metadata": {},
     "output_type": "display_data"
    },
    {
     "data": {
      "text/plain": [
       "'mse :0.29871288253255857'"
      ]
     },
     "metadata": {},
     "output_type": "display_data"
    },
    {
     "data": {
      "text/plain": [
       "'std of square_err :0.3045322467313777'"
      ]
     },
     "metadata": {},
     "output_type": "display_data"
    },
    {
     "data": {
      "text/plain": [
       "'rmse :0.5465463224032877'"
      ]
     },
     "metadata": {},
     "output_type": "display_data"
    },
    {
     "data": {
      "text/plain": [
       "'mae : 0.4560679430853456'"
      ]
     },
     "metadata": {},
     "output_type": "display_data"
    },
    {
     "data": {
      "text/plain": [
       "'std of abs_err: 0.30459254161803534'"
      ]
     },
     "metadata": {},
     "output_type": "display_data"
    },
    {
     "data": {
      "text/plain": [
       "'sklearn mse: 0.2987128819087091'"
      ]
     },
     "metadata": {},
     "output_type": "display_data"
    },
    {
     "data": {
      "text/plain": [
       "'--------------------------------------------------'"
      ]
     },
     "metadata": {},
     "output_type": "display_data"
    },
    {
     "data": {
      "text/plain": [
       "'mse of first stage LSTM :0.33857162321083556'"
      ]
     },
     "metadata": {},
     "output_type": "display_data"
    },
    {
     "data": {
      "text/plain": [
       "'std of square_err first stage LSTM :0.34366845415770253'"
      ]
     },
     "metadata": {},
     "output_type": "display_data"
    },
    {
     "data": {
      "text/plain": [
       "'rmse of first stage LSTM :0.5818690773798136'"
      ]
     },
     "metadata": {},
     "output_type": "display_data"
    },
    {
     "data": {
      "text/plain": [
       "'sklearn mse of first stage LSTM: 0.3385716227347001'"
      ]
     },
     "metadata": {},
     "output_type": "display_data"
    },
    {
     "name": "stdout",
     "output_type": "stream",
     "text": [
      "time: 19.9 ms (started: 2022-12-12 12:45:52 +00:00)\n"
     ]
    }
   ],
   "source": [
    "res_df = pd.read_csv(res_dir/f\"{output_file_name}{lstm_weight_name}{data_split_setting}-res.csv\", index_col=[\"items\"])\n",
    "display(res_df.columns)\n",
    "display(res_df.shape)\n",
    "display(res_df.head())\n",
    "display(f\"mse :{(res_df['error']**2).mean()}\",\n",
    "        f\"std of square_err :{(res_df['error']**2).std()}\",\n",
    "        f\"rmse :{np.sqrt((res_df['error']**2).mean())}\",\n",
    "        f\"mae : {res_df['absolute_err'].mean()}\",\n",
    "        f\"std of abs_err: {res_df['absolute_err'].std()}\",\n",
    "        f\"sklearn mse: {mean_squared_error(res_df['ground_truth'], res_df['hybrid_model_pred'])}\")\n",
    "display(\"-\"*50)\n",
    "display(f\"mse of first stage LSTM :{(res_df['first_stage_lstm_err']**2).mean()}\",\n",
    "        f\"std of square_err first stage LSTM :{(res_df['first_stage_lstm_err']**2).std()}\",\n",
    "        f\"rmse of first stage LSTM :{np.sqrt((res_df['first_stage_lstm_err']**2).mean())}\",\n",
    "        f\"sklearn mse of first stage LSTM: {mean_squared_error(res_df['ground_truth'], res_df['first_stage_lstm_pred'])}\")"
   ]
  },
  {
   "cell_type": "code",
   "execution_count": 12,
   "id": "b7b7c64a-f3c7-4b5d-93bc-737c4ae4bf67",
   "metadata": {
    "tags": []
   },
   "outputs": [
    {
     "name": "stdout",
     "output_type": "stream",
     "text": [
      "time: 3.38 ms (started: 2022-12-12 12:45:52 +00:00)\n"
     ]
    }
   ],
   "source": [
    "def plot_exploration(target_df: pd.core.frame.DataFrame, title: str) -> None:\n",
    "    fig, axes = plt.subplots(figsize=(20, 20), nrows=7, ncols=2, sharex=False, sharey=False, dpi=100)\n",
    "    s0 = axes[0, 0]\n",
    "    s0.set_title(\"ABS_err violin\")\n",
    "    sns.violinplot(y=target_df[\"absolute_err\"], ax=s0)\n",
    "    s1 = axes[0, 1]\n",
    "    s1.set_title(\"Err violin\")\n",
    "    sns.violinplot(y=target_df[\"error\"], ax=s1)\n",
    "    s2 = axes[1, 0]\n",
    "    s2.set_title(\"ABS_err hist\")\n",
    "    target_df['absolute_err'].hist(bins=[b/10 for b in range(11)], ax=s2)\n",
    "    s3 = axes[1, 1]\n",
    "    s3.set_title(\"Err hist\")\n",
    "    target_df['error'].hist(bins=[b/10 for b in range(-10, 11)], ax=s3)\n",
    "    s4 = axes[2, 0]\n",
    "    s4.set_title(\"LSTM_compensation_dir count\")\n",
    "    sns.countplot(x=\"lstm_compensation_dir\", data=target_df, ax=s4)\n",
    "    s5 = axes[2, 1]\n",
    "    s5.set_title(\"LSTM_compensation_dir count groupby ARIMA_pred_dir\")\n",
    "    df_gb = target_df.groupby(['arima_pred_dir', 'lstm_compensation_dir']).size().unstack(level=1)\n",
    "    df_gb.plot(kind='bar', ax=s5)\n",
    "    s6 = axes[3, 0]\n",
    "    s6.set_title(\"ARIMA_model prediction Err violin group by LSTM_compensation_dir\")\n",
    "    sns.violinplot(x=target_df[\"lstm_compensation_dir\"], y=target_df[\"arima_err\"], ax=s6)\n",
    "    s8 = axes[4, 0]\n",
    "    s8.set_title(\"ARIMA_model prediction magnitude group by LSTM_compensation_dir\")\n",
    "    sns.violinplot(x=target_df[\"lstm_compensation_dir\"], y=target_df[\"arima_pred\"], ax=s8)\n",
    "    s9 = axes[4, 1]\n",
    "    s9.set_title(\"LSTM compensation magnitude group by LSTM_compensation_dir\")\n",
    "    sns.violinplot(x=target_df[\"lstm_compensation_dir\"], y=target_df[\"lstm_pred\"], ax=s9)\n",
    "    s10 = axes[5, 0]\n",
    "    s10.set_title(\"Correlation magnitude in last period group by LSTM_compensation_dir\")\n",
    "    sns.violinplot(x=target_df[\"lstm_compensation_dir\"], y=target_df[\"ground_truth\"], ax=s10)\n",
    "    s11 = axes[5, 1]\n",
    "    s11.set_title(\"Hybrid Err violin group by LSTM_compensation_dir\")\n",
    "    sns.violinplot(x=target_df[\"lstm_compensation_dir\"], y=target_df[\"error\"], ax=s11)\n",
    "    s12 = axes[6,0]\n",
    "    s12.set_title(\"LSTM_compensation_dir pie with wrong ARIMA_pred_dir\")\n",
    "    df_gb.loc[df_gb.index==-1, :].squeeze().plot(kind=\"pie\", autopct='%1.1f%%', ax=s12)\n",
    "    s13 = axes[6,1]\n",
    "    s13.set_title(\"LSTM_compensation_dir pie with correct ARIMA_pred_dir\")\n",
    "    df_gb.loc[df_gb.index==1, :].squeeze().plot(kind=\"pie\", autopct='%1.1f%%', ax=s13)\n",
    "\n",
    "    fig.suptitle(f\"{title}_basic_exploration\")\n",
    "    plt.tight_layout()\n",
    "    plt.savefig(f\"./results/hybrid_prediction_analysis_{title}.png\")\n",
    "    plt.show()\n",
    "    plt.close()\n",
    "\n",
    "\n",
    "def plot_exploration_pred_perform(target_df: pd.core.frame.DataFrame, title: str) -> None:\n",
    "    fig, axes = plt.subplots(figsize=(20, 20), nrows=6, ncols=2, sharex=False, sharey=False, dpi=100)\n",
    "    s1 = axes[0, 0]\n",
    "    s1.set_title(\"LSTM_compensation_dir count groupby prediction performance\")\n",
    "    df_gb = target_df.groupby(['high_pred_performance', 'lstm_compensation_dir']).size().unstack(level=1)\n",
    "    df_gb.plot(kind='bar', ax=s1)\n",
    "    s2 = axes[0, 1]\n",
    "    s2.set_title(\"ARIMA_model prediction magnitude group by prediction performance\")\n",
    "    sns.violinplot(x=target_df[\"high_pred_performance\"], y=target_df[\"arima_pred\"], ax=s2)\n",
    "    s3 = axes[1, 0]\n",
    "    s3.set_title(\"LSTM compensation magnitude group by prediction performance\")\n",
    "    sns.violinplot(x=target_df[\"high_pred_performance\"], y=target_df[\"lstm_pred\"], ax=s3)\n",
    "    s4 = axes[1, 1]\n",
    "    s4.set_title(\"Correlation magnitude in last period group by prediction performance\")\n",
    "    sns.violinplot(x=target_df[\"high_pred_performance\"], y=target_df[\"ground_truth\"], ax=s4)\n",
    "    s5 = axes[2, 0]\n",
    "    s5.set_title(\"Correlation series mean groupby prediction performance\")\n",
    "    sns.violinplot(x=target_df['high_pred_performance'], y=target_df[\"corr_ser_mean\"], ax=s5)\n",
    "    s6 = axes[2, 1]\n",
    "    s6.set_title(\"Correlation series std groupby prediction performance\")\n",
    "    sns.violinplot(x=target_df['high_pred_performance'], y=target_df[\"corr_ser_std\"], ax=s6)\n",
    "    s7 = axes[3, 0]\n",
    "    s7.set_title(\"Correlation series stl_period group by prediction performance\")\n",
    "    sns.violinplot(x=target_df[\"high_pred_performance\"], y=target_df[\"corr_stl_period\"], ax=s7)\n",
    "    s8 = axes[3, 1]\n",
    "    s8.set_title(\"Correlation series stl_residual group by prediction performance\")\n",
    "    sns.violinplot(x=target_df[\"high_pred_performance\"], y=target_df[\"corr_stl_resid\"], ax=s8)\n",
    "    s9 = axes[4, 0]\n",
    "    s9.set_title(\"Correlation series stl_trend_std group by prediction performance\")\n",
    "    sns.violinplot(x=target_df[\"high_pred_performance\"], y=target_df[\"corr_stl_trend_std\"], ax=s9)\n",
    "    s10 = axes[4, 1]\n",
    "    s10.set_title(\"Correlation series stl_trend_coef group by prediction performance\")\n",
    "    sns.violinplot(x=target_df[\"high_pred_performance\"], y=target_df[\"corr_stl_trend_coef\"], ax=s10)\n",
    "    s11 = axes[5, 0]\n",
    "    s11.set_title(\"ARIMA_pred_dir count groupby prediction performance\")\n",
    "    df_gb = target_df.groupby(['high_pred_performance', 'arima_pred_dir']).size().unstack(level=1)\n",
    "    df_gb.plot(kind='bar', ax=s11)\n",
    "\n",
    "    fig.suptitle(F\"{title}_groupby prediction\")\n",
    "    plt.tight_layout()\n",
    "    plt.savefig(f\"./results/hybrid_prediction_analysis_groupby_pred_perform_{title}.png\")\n",
    "    plt.show()\n",
    "    plt.close()\n",
    "\n",
    "\n",
    "def plot_stock_freq(target_df: pd.core.frame.DataFrame, title: str) -> None:\n",
    "    stocks_show_freq = target_df.loc[target_df['high_pred_performance'] == True, ['items[0]','items[1]']].stack().value_counts().to_dict()\n",
    "    plt.figure(figsize=(80, 10), dpi=100)\n",
    "    plt.bar(range(len(stocks_show_freq)), list(stocks_show_freq.values()))\n",
    "    plt.xticks(range(len(stocks_show_freq)), list(stocks_show_freq.keys()), rotation=60)\n",
    "    plt.title(F\"{title}_items appearence frequence\")\n",
    "    plt.savefig(f\"./results/items_appearence_frequence_{title}.png\")\n",
    "    plt.show()\n",
    "    plt.close()"
   ]
  },
  {
   "cell_type": "code",
   "execution_count": 13,
   "id": "3d1c7e89-18db-498a-b3bd-2ad63a185935",
   "metadata": {
    "tags": []
   },
   "outputs": [
    {
     "ename": "KeyError",
     "evalue": "'arima_pred_dir'",
     "output_type": "error",
     "traceback": [
      "\u001b[0;31m---------------------------------------------------------------------------\u001b[0m",
      "\u001b[0;31mKeyError\u001b[0m                                  Traceback (most recent call last)",
      "Cell \u001b[0;32mIn [13], line 1\u001b[0m\n\u001b[0;32m----> 1\u001b[0m \u001b[43mplot_exploration\u001b[49m\u001b[43m(\u001b[49m\u001b[43mres_df\u001b[49m\u001b[43m,\u001b[49m\u001b[43m \u001b[49m\u001b[43mfig_title\u001b[49m\u001b[43m)\u001b[49m\n\u001b[1;32m      2\u001b[0m plot_exploration_pred_perform(res_df, fig_title)\n\u001b[1;32m      3\u001b[0m plot_stock_freq(res_df, fig_title)\n",
      "Cell \u001b[0;32mIn [12], line 20\u001b[0m, in \u001b[0;36mplot_exploration\u001b[0;34m(target_df, title)\u001b[0m\n\u001b[1;32m     18\u001b[0m s5 \u001b[38;5;241m=\u001b[39m axes[\u001b[38;5;241m2\u001b[39m, \u001b[38;5;241m1\u001b[39m]\n\u001b[1;32m     19\u001b[0m s5\u001b[38;5;241m.\u001b[39mset_title(\u001b[38;5;124m\"\u001b[39m\u001b[38;5;124mLSTM_compensation_dir count groupby ARIMA_pred_dir\u001b[39m\u001b[38;5;124m\"\u001b[39m)\n\u001b[0;32m---> 20\u001b[0m df_gb \u001b[38;5;241m=\u001b[39m \u001b[43mtarget_df\u001b[49m\u001b[38;5;241;43m.\u001b[39;49m\u001b[43mgroupby\u001b[49m\u001b[43m(\u001b[49m\u001b[43m[\u001b[49m\u001b[38;5;124;43m'\u001b[39;49m\u001b[38;5;124;43marima_pred_dir\u001b[39;49m\u001b[38;5;124;43m'\u001b[39;49m\u001b[43m,\u001b[49m\u001b[43m \u001b[49m\u001b[38;5;124;43m'\u001b[39;49m\u001b[38;5;124;43mlstm_compensation_dir\u001b[39;49m\u001b[38;5;124;43m'\u001b[39;49m\u001b[43m]\u001b[49m\u001b[43m)\u001b[49m\u001b[38;5;241m.\u001b[39msize()\u001b[38;5;241m.\u001b[39munstack(level\u001b[38;5;241m=\u001b[39m\u001b[38;5;241m1\u001b[39m)\n\u001b[1;32m     21\u001b[0m df_gb\u001b[38;5;241m.\u001b[39mplot(kind\u001b[38;5;241m=\u001b[39m\u001b[38;5;124m'\u001b[39m\u001b[38;5;124mbar\u001b[39m\u001b[38;5;124m'\u001b[39m, ax\u001b[38;5;241m=\u001b[39ms5)\n\u001b[1;32m     22\u001b[0m s6 \u001b[38;5;241m=\u001b[39m axes[\u001b[38;5;241m3\u001b[39m, \u001b[38;5;241m0\u001b[39m]\n",
      "File \u001b[0;32m/usr/local/lib/python3.8/dist-packages/pandas/core/frame.py:7721\u001b[0m, in \u001b[0;36mDataFrame.groupby\u001b[0;34m(self, by, axis, level, as_index, sort, group_keys, squeeze, observed, dropna)\u001b[0m\n\u001b[1;32m   7716\u001b[0m axis \u001b[38;5;241m=\u001b[39m \u001b[38;5;28mself\u001b[39m\u001b[38;5;241m.\u001b[39m_get_axis_number(axis)\n\u001b[1;32m   7718\u001b[0m \u001b[38;5;66;03m# https://github.com/python/mypy/issues/7642\u001b[39;00m\n\u001b[1;32m   7719\u001b[0m \u001b[38;5;66;03m# error: Argument \"squeeze\" to \"DataFrameGroupBy\" has incompatible type\u001b[39;00m\n\u001b[1;32m   7720\u001b[0m \u001b[38;5;66;03m# \"Union[bool, NoDefault]\"; expected \"bool\"\u001b[39;00m\n\u001b[0;32m-> 7721\u001b[0m \u001b[38;5;28;01mreturn\u001b[39;00m \u001b[43mDataFrameGroupBy\u001b[49m\u001b[43m(\u001b[49m\n\u001b[1;32m   7722\u001b[0m \u001b[43m    \u001b[49m\u001b[43mobj\u001b[49m\u001b[38;5;241;43m=\u001b[39;49m\u001b[38;5;28;43mself\u001b[39;49m\u001b[43m,\u001b[49m\n\u001b[1;32m   7723\u001b[0m \u001b[43m    \u001b[49m\u001b[43mkeys\u001b[49m\u001b[38;5;241;43m=\u001b[39;49m\u001b[43mby\u001b[49m\u001b[43m,\u001b[49m\n\u001b[1;32m   7724\u001b[0m \u001b[43m    \u001b[49m\u001b[43maxis\u001b[49m\u001b[38;5;241;43m=\u001b[39;49m\u001b[43maxis\u001b[49m\u001b[43m,\u001b[49m\n\u001b[1;32m   7725\u001b[0m \u001b[43m    \u001b[49m\u001b[43mlevel\u001b[49m\u001b[38;5;241;43m=\u001b[39;49m\u001b[43mlevel\u001b[49m\u001b[43m,\u001b[49m\n\u001b[1;32m   7726\u001b[0m \u001b[43m    \u001b[49m\u001b[43mas_index\u001b[49m\u001b[38;5;241;43m=\u001b[39;49m\u001b[43mas_index\u001b[49m\u001b[43m,\u001b[49m\n\u001b[1;32m   7727\u001b[0m \u001b[43m    \u001b[49m\u001b[43msort\u001b[49m\u001b[38;5;241;43m=\u001b[39;49m\u001b[43msort\u001b[49m\u001b[43m,\u001b[49m\n\u001b[1;32m   7728\u001b[0m \u001b[43m    \u001b[49m\u001b[43mgroup_keys\u001b[49m\u001b[38;5;241;43m=\u001b[39;49m\u001b[43mgroup_keys\u001b[49m\u001b[43m,\u001b[49m\n\u001b[1;32m   7729\u001b[0m \u001b[43m    \u001b[49m\u001b[43msqueeze\u001b[49m\u001b[38;5;241;43m=\u001b[39;49m\u001b[43msqueeze\u001b[49m\u001b[43m,\u001b[49m\u001b[43m  \u001b[49m\u001b[38;5;66;43;03m# type: ignore[arg-type]\u001b[39;49;00m\n\u001b[1;32m   7730\u001b[0m \u001b[43m    \u001b[49m\u001b[43mobserved\u001b[49m\u001b[38;5;241;43m=\u001b[39;49m\u001b[43mobserved\u001b[49m\u001b[43m,\u001b[49m\n\u001b[1;32m   7731\u001b[0m \u001b[43m    \u001b[49m\u001b[43mdropna\u001b[49m\u001b[38;5;241;43m=\u001b[39;49m\u001b[43mdropna\u001b[49m\u001b[43m,\u001b[49m\n\u001b[1;32m   7732\u001b[0m \u001b[43m\u001b[49m\u001b[43m)\u001b[49m\n",
      "File \u001b[0;32m/usr/local/lib/python3.8/dist-packages/pandas/core/groupby/groupby.py:882\u001b[0m, in \u001b[0;36mGroupBy.__init__\u001b[0;34m(self, obj, keys, axis, level, grouper, exclusions, selection, as_index, sort, group_keys, squeeze, observed, mutated, dropna)\u001b[0m\n\u001b[1;32m    879\u001b[0m \u001b[38;5;28;01mif\u001b[39;00m grouper \u001b[38;5;129;01mis\u001b[39;00m \u001b[38;5;28;01mNone\u001b[39;00m:\n\u001b[1;32m    880\u001b[0m     \u001b[38;5;28;01mfrom\u001b[39;00m \u001b[38;5;21;01mpandas\u001b[39;00m\u001b[38;5;21;01m.\u001b[39;00m\u001b[38;5;21;01mcore\u001b[39;00m\u001b[38;5;21;01m.\u001b[39;00m\u001b[38;5;21;01mgroupby\u001b[39;00m\u001b[38;5;21;01m.\u001b[39;00m\u001b[38;5;21;01mgrouper\u001b[39;00m \u001b[38;5;28;01mimport\u001b[39;00m get_grouper\n\u001b[0;32m--> 882\u001b[0m     grouper, exclusions, obj \u001b[38;5;241m=\u001b[39m \u001b[43mget_grouper\u001b[49m\u001b[43m(\u001b[49m\n\u001b[1;32m    883\u001b[0m \u001b[43m        \u001b[49m\u001b[43mobj\u001b[49m\u001b[43m,\u001b[49m\n\u001b[1;32m    884\u001b[0m \u001b[43m        \u001b[49m\u001b[43mkeys\u001b[49m\u001b[43m,\u001b[49m\n\u001b[1;32m    885\u001b[0m \u001b[43m        \u001b[49m\u001b[43maxis\u001b[49m\u001b[38;5;241;43m=\u001b[39;49m\u001b[43maxis\u001b[49m\u001b[43m,\u001b[49m\n\u001b[1;32m    886\u001b[0m \u001b[43m        \u001b[49m\u001b[43mlevel\u001b[49m\u001b[38;5;241;43m=\u001b[39;49m\u001b[43mlevel\u001b[49m\u001b[43m,\u001b[49m\n\u001b[1;32m    887\u001b[0m \u001b[43m        \u001b[49m\u001b[43msort\u001b[49m\u001b[38;5;241;43m=\u001b[39;49m\u001b[43msort\u001b[49m\u001b[43m,\u001b[49m\n\u001b[1;32m    888\u001b[0m \u001b[43m        \u001b[49m\u001b[43mobserved\u001b[49m\u001b[38;5;241;43m=\u001b[39;49m\u001b[43mobserved\u001b[49m\u001b[43m,\u001b[49m\n\u001b[1;32m    889\u001b[0m \u001b[43m        \u001b[49m\u001b[43mmutated\u001b[49m\u001b[38;5;241;43m=\u001b[39;49m\u001b[38;5;28;43mself\u001b[39;49m\u001b[38;5;241;43m.\u001b[39;49m\u001b[43mmutated\u001b[49m\u001b[43m,\u001b[49m\n\u001b[1;32m    890\u001b[0m \u001b[43m        \u001b[49m\u001b[43mdropna\u001b[49m\u001b[38;5;241;43m=\u001b[39;49m\u001b[38;5;28;43mself\u001b[39;49m\u001b[38;5;241;43m.\u001b[39;49m\u001b[43mdropna\u001b[49m\u001b[43m,\u001b[49m\n\u001b[1;32m    891\u001b[0m \u001b[43m    \u001b[49m\u001b[43m)\u001b[49m\n\u001b[1;32m    893\u001b[0m \u001b[38;5;28mself\u001b[39m\u001b[38;5;241m.\u001b[39mobj \u001b[38;5;241m=\u001b[39m obj\n\u001b[1;32m    894\u001b[0m \u001b[38;5;28mself\u001b[39m\u001b[38;5;241m.\u001b[39maxis \u001b[38;5;241m=\u001b[39m obj\u001b[38;5;241m.\u001b[39m_get_axis_number(axis)\n",
      "File \u001b[0;32m/usr/local/lib/python3.8/dist-packages/pandas/core/groupby/grouper.py:882\u001b[0m, in \u001b[0;36mget_grouper\u001b[0;34m(obj, key, axis, level, sort, observed, mutated, validate, dropna)\u001b[0m\n\u001b[1;32m    880\u001b[0m         in_axis, level, gpr \u001b[38;5;241m=\u001b[39m \u001b[38;5;28;01mFalse\u001b[39;00m, gpr, \u001b[38;5;28;01mNone\u001b[39;00m\n\u001b[1;32m    881\u001b[0m     \u001b[38;5;28;01melse\u001b[39;00m:\n\u001b[0;32m--> 882\u001b[0m         \u001b[38;5;28;01mraise\u001b[39;00m \u001b[38;5;167;01mKeyError\u001b[39;00m(gpr)\n\u001b[1;32m    883\u001b[0m \u001b[38;5;28;01melif\u001b[39;00m \u001b[38;5;28misinstance\u001b[39m(gpr, Grouper) \u001b[38;5;129;01mand\u001b[39;00m gpr\u001b[38;5;241m.\u001b[39mkey \u001b[38;5;129;01mis\u001b[39;00m \u001b[38;5;129;01mnot\u001b[39;00m \u001b[38;5;28;01mNone\u001b[39;00m:\n\u001b[1;32m    884\u001b[0m     \u001b[38;5;66;03m# Add key to exclusions\u001b[39;00m\n\u001b[1;32m    885\u001b[0m     exclusions\u001b[38;5;241m.\u001b[39madd(gpr\u001b[38;5;241m.\u001b[39mkey)\n",
      "\u001b[0;31mKeyError\u001b[0m: 'arima_pred_dir'"
     ]
    },
    {
     "data": {
      "image/png": "[encoded data removed]",
      "text/plain": [
       "<Figure size 2000x2000 with 14 Axes>"
      ]
     },
     "metadata": {},
     "output_type": "display_data"
    },
    {
     "name": "stdout",
     "output_type": "stream",
     "text": [
      "time: 2.57 s (started: 2022-12-12 12:45:52 +00:00)\n"
     ]
    }
   ],
   "source": [
    "plot_exploration(res_df, fig_title)\n",
    "plot_exploration_pred_perform(res_df, fig_title)\n",
    "plot_stock_freq(res_df, fig_title)"
   ]
  }
 ],
 "metadata": {
  "kernelspec": {
   "display_name": "Python 3 (ipykernel)",
   "language": "python",
   "name": "python3"
  },
  "language_info": {
   "codemirror_mode": {
    "name": "ipython",
    "version": 3
   },
   "file_extension": ".py",
   "mimetype": "text/x-python",
   "name": "python",
   "nbconvert_exporter": "python",
   "pygments_lexer": "ipython3",
   "version": "3.8.10"
  }
 },
 "nbformat": 4,
 "nbformat_minor": 5
}
